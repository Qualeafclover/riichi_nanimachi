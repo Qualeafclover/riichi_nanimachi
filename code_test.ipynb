{
 "cells": [
  {
   "cell_type": "code",
   "execution_count": 1,
   "id": "535b131b-6b35-445d-b0d6-02fd8d75e8d7",
   "metadata": {},
   "outputs": [],
   "source": [
    "import numpy as np\n",
    "\n",
    "DATASET_PATH = \"dataset/riichi_ds_v02/0003000.npz\"\n",
    "\n",
    "loads = np.load(DATASET_PATH)\n",
    "# x, y = torch.tensor(loads[\"x\"].astype(np.float32)), torch.tensor(loads[\"y\"].astype(np.float32))"
   ]
  },
  {
   "cell_type": "code",
   "execution_count": 2,
   "id": "381bdaa9-4d17-4cc0-a6f3-e18523ee2b35",
   "metadata": {},
   "outputs": [
    {
     "name": "stdout",
     "output_type": "stream",
     "text": [
      "KeysView(NpzFile 'dataset/riichi_ds_v02/0003000.npz' with keys: x_hand, x_hand_red, x_river, x_river_red, x_river_riichi...)\n"
     ]
    }
   ],
   "source": [
    "print(loads.keys())"
   ]
  },
  {
   "cell_type": "code",
   "execution_count": 3,
   "id": "6d631e85-8c35-4c86-845c-0fe932501ae4",
   "metadata": {},
   "outputs": [
    {
     "name": "stdout",
     "output_type": "stream",
     "text": [
      "x_hand\n",
      "(799885, 4, 4, 9)\n",
      "x_hand_red\n",
      "(799885, 3)\n",
      "x_river\n",
      "(799885, 4, 4, 24, 9)\n",
      "x_river_red\n",
      "(799885, 4, 24)\n",
      "x_river_riichi\n",
      "(799885, 4, 24)\n",
      "x_meld\n",
      "(799885, 4, 4, 4, 9)\n",
      "x_meld_red5\n",
      "(799885, 4, 3)\n",
      "x_meld_throw\n",
      "(799885, 4, 4, 4, 9)\n",
      "x_meld_throw_red\n",
      "(799885, 4, 3)\n",
      "x_dora\n",
      "(799885, 4, 4, 9)\n",
      "x_score\n",
      "(799885, 4)\n",
      "x_pool\n",
      "(799885,)\n",
      "x_winds\n",
      "(799885, 2, 9)\n",
      "y\n",
      "(799885, 4)\n"
     ]
    }
   ],
   "source": [
    "varnames = (\"x_hand\", \"x_hand_red\", \"x_river\", \n",
    "\"x_river_red\", \"x_river_riichi\", \"x_meld\", \n",
    "\"x_meld_red5\", \"x_meld_throw\", \"x_meld_throw_red\", \n",
    "\"x_dora\", \"x_score\", \"x_pool\", \"x_winds\", \"y\")\n",
    "\n",
    "for varname in varnames:\n",
    "    print(varname)\n",
    "    print(loads[varname].shape)"
   ]
  },
  {
   "cell_type": "code",
   "execution_count": 4,
   "id": "75198d25-a5ba-4c46-b9cb-3e1852a845a0",
   "metadata": {},
   "outputs": [
    {
     "name": "stdout",
     "output_type": "stream",
     "text": [
      "(262763, 4, 24, 9)\n",
      "(262763, 1, 24, 9)\n"
     ]
    }
   ],
   "source": [
    "from torch.utils.data import Dataset, DataLoader\n",
    "import torch\n",
    "import numpy as np\n",
    "import glob\n",
    "\n",
    "class MahjongDataset(Dataset):\n",
    "    def __init__(self, data_paths):\n",
    "        self.x_dict = {\n",
    "            \"x_hand\": None, \n",
    "            \"x_hand_red\": None, \n",
    "            \"x_river\": None, \n",
    "            \"x_river_red\": None, \n",
    "            \"x_river_riichi\": None, \n",
    "            \"x_meld\": None, \n",
    "            \"x_meld_red5\": None, \n",
    "            \"x_meld_throw\": None, \n",
    "            \"x_meld_throw_red\": None, \n",
    "            \"x_dora\": None, \n",
    "            \"x_score\": None, \n",
    "            \"x_pool\": None, \n",
    "            \"x_winds\": None}\n",
    "        self.y = None\n",
    "        self.loads = list(map(np.load, data_paths))\n",
    "        self.loads = [np.load(path) for path in data_paths]\n",
    "        \n",
    "        self.load_index = -1\n",
    "        self.load_next()\n",
    "\n",
    "    def unload(self):\n",
    "        self.y = None\n",
    "        for key in self.x_dict.keys():\n",
    "            self.x_dict[key] = None\n",
    "    \n",
    "    def load_next(self):\n",
    "        self.load_index += 1\n",
    "        self.load_index %= len(self.loads)\n",
    "        self.y = self.loads[self.load_index][\"y\"].astype(np.float32)\n",
    "        for key in self.x_dict.keys():\n",
    "            self.x_dict[key] = self.loads[self.load_index][key].astype(np.float32)\n",
    "        \n",
    "        # Data pre-processing\n",
    "        # Divide by 250 to average out the score values\n",
    "        self.y /= 250\n",
    "        self.x_dict[\"x_score\"] /= 250\n",
    "        self.x_dict[\"x_pool\"] /= 250\n",
    "        # Resize all input to B, X, 24, 9\n",
    "        self.x_dict[\"x_hand\"] = np.repeat(self.x_dict[\"x_hand\"], 6, -2)\n",
    "        self.x_dict[\"x_hand_red\"] = np.expand_dims(self.x_dict[\"x_hand_red\"], (-2, -3))\n",
    "        self.x_dict[\"x_hand_red\"] = np.repeat(self.x_dict[\"x_hand_red\"], 3, -1)\n",
    "        self.x_dict[\"x_hand_red\"] = np.repeat(self.x_dict[\"x_hand_red\"], 24, -2)\n",
    "        print(self.x_dict[\"x_hand\"].shape)\n",
    "        print(self.x_dict[\"x_hand_red\"].shape)\n",
    "        # To predict score difference at the end of the round\n",
    "        self.y -= self.x_dict[\"x_score\"]  \n",
    "    \n",
    "    def __len__(self):\n",
    "        return len(self.y)\n",
    "    \n",
    "    def __getitem__(self, idx):\n",
    "        if torch.is_tensor(idx):\n",
    "            idx = idx.tolist()\n",
    "        x = {key: self.x_dict[key][idx] for key in self.x_dict.keys()}\n",
    "        return x, self.y\n",
    "\n",
    "# train_ds = MahjongDataset(sorted(glob.glob(\"dataset/riichi_ds_v02/*.npz\"))[:30])\n",
    "test_ds = MahjongDataset(sorted(glob.glob(\"dataset/riichi_ds_v02/*.npz\"))[30:])"
   ]
  },
  {
   "cell_type": "code",
   "execution_count": 24,
   "id": "4b67fcea-6cb1-4330-bb7e-9fc185db21e2",
   "metadata": {},
   "outputs": [
    {
     "data": {
      "text/plain": [
       "(8, 1, 1, 3)"
      ]
     },
     "execution_count": 24,
     "metadata": {},
     "output_type": "execute_result"
    }
   ],
   "source": [
    "test_ds[:8][0][\"x_hand_red\"].shape"
   ]
  },
  {
   "cell_type": "code",
   "execution_count": 20,
   "id": "c175a513-ab60-4439-a4e9-fe2b3c57461b",
   "metadata": {
    "scrolled": true
   },
   "outputs": [
    {
     "data": {
      "text/plain": [
       "array([[[[0., 0., 0., ..., 0., 0., 0.],\n",
       "         [0., 0., 0., ..., 0., 0., 0.],\n",
       "         [0., 0., 0., ..., 0., 0., 0.],\n",
       "         ...,\n",
       "         [0., 0., 0., ..., 0., 1., 1.],\n",
       "         [0., 0., 0., ..., 0., 1., 1.],\n",
       "         [0., 0., 0., ..., 0., 1., 1.]],\n",
       "\n",
       "        [[0., 0., 0., ..., 0., 0., 0.],\n",
       "         [0., 0., 0., ..., 0., 0., 0.],\n",
       "         [0., 0., 0., ..., 0., 0., 0.],\n",
       "         ...,\n",
       "         [0., 0., 0., ..., 0., 0., 0.],\n",
       "         [0., 0., 0., ..., 0., 0., 0.],\n",
       "         [0., 0., 0., ..., 0., 0., 0.]],\n",
       "\n",
       "        [[0., 0., 0., ..., 0., 0., 0.],\n",
       "         [0., 0., 0., ..., 0., 0., 0.],\n",
       "         [0., 0., 0., ..., 0., 0., 0.],\n",
       "         ...,\n",
       "         [0., 0., 1., ..., 1., 1., 0.],\n",
       "         [0., 0., 1., ..., 1., 1., 0.],\n",
       "         [0., 0., 1., ..., 1., 1., 0.]],\n",
       "\n",
       "        [[0., 0., 0., ..., 0., 0., 0.],\n",
       "         [0., 0., 0., ..., 0., 0., 0.],\n",
       "         [0., 0., 0., ..., 0., 0., 0.],\n",
       "         ...,\n",
       "         [1., 0., 0., ..., 0., 0., 0.],\n",
       "         [1., 0., 0., ..., 0., 0., 0.],\n",
       "         [1., 0., 0., ..., 0., 0., 0.]]],\n",
       "\n",
       "\n",
       "       [[[0., 0., 0., ..., 0., 0., 0.],\n",
       "         [0., 0., 0., ..., 0., 0., 0.],\n",
       "         [0., 0., 0., ..., 0., 0., 0.],\n",
       "         ...,\n",
       "         [1., 0., 0., ..., 1., 0., 1.],\n",
       "         [1., 0., 0., ..., 1., 0., 1.],\n",
       "         [1., 0., 0., ..., 1., 0., 1.]],\n",
       "\n",
       "        [[0., 0., 0., ..., 0., 0., 0.],\n",
       "         [0., 0., 0., ..., 0., 0., 0.],\n",
       "         [0., 0., 0., ..., 0., 0., 0.],\n",
       "         ...,\n",
       "         [0., 0., 0., ..., 1., 0., 0.],\n",
       "         [0., 0., 0., ..., 1., 0., 0.],\n",
       "         [0., 0., 0., ..., 1., 0., 0.]],\n",
       "\n",
       "        [[0., 0., 0., ..., 0., 0., 0.],\n",
       "         [0., 0., 0., ..., 0., 0., 0.],\n",
       "         [0., 0., 0., ..., 0., 0., 0.],\n",
       "         ...,\n",
       "         [0., 0., 1., ..., 0., 0., 0.],\n",
       "         [0., 0., 1., ..., 0., 0., 0.],\n",
       "         [0., 0., 1., ..., 0., 0., 0.]],\n",
       "\n",
       "        [[0., 0., 0., ..., 0., 0., 0.],\n",
       "         [0., 0., 0., ..., 0., 0., 0.],\n",
       "         [0., 0., 0., ..., 0., 0., 0.],\n",
       "         ...,\n",
       "         [0., 1., 1., ..., 1., 0., 0.],\n",
       "         [0., 1., 1., ..., 1., 0., 0.],\n",
       "         [0., 1., 1., ..., 1., 0., 0.]]],\n",
       "\n",
       "\n",
       "       [[[0., 0., 0., ..., 0., 0., 0.],\n",
       "         [0., 0., 0., ..., 0., 0., 0.],\n",
       "         [0., 0., 0., ..., 0., 0., 0.],\n",
       "         ...,\n",
       "         [0., 0., 1., ..., 0., 0., 1.],\n",
       "         [0., 0., 1., ..., 0., 0., 1.],\n",
       "         [0., 0., 1., ..., 0., 0., 1.]],\n",
       "\n",
       "        [[0., 0., 0., ..., 0., 0., 0.],\n",
       "         [0., 0., 0., ..., 0., 0., 0.],\n",
       "         [0., 0., 0., ..., 0., 0., 0.],\n",
       "         ...,\n",
       "         [0., 0., 1., ..., 1., 1., 0.],\n",
       "         [0., 0., 1., ..., 1., 1., 0.],\n",
       "         [0., 0., 1., ..., 1., 1., 0.]],\n",
       "\n",
       "        [[0., 0., 0., ..., 0., 0., 0.],\n",
       "         [0., 0., 0., ..., 0., 0., 0.],\n",
       "         [0., 0., 0., ..., 0., 0., 0.],\n",
       "         ...,\n",
       "         [0., 1., 0., ..., 0., 0., 1.],\n",
       "         [0., 1., 0., ..., 0., 0., 1.],\n",
       "         [0., 1., 0., ..., 0., 0., 1.]],\n",
       "\n",
       "        [[0., 0., 0., ..., 0., 0., 0.],\n",
       "         [0., 0., 0., ..., 0., 0., 0.],\n",
       "         [0., 0., 0., ..., 0., 0., 0.],\n",
       "         ...,\n",
       "         [1., 0., 1., ..., 1., 0., 0.],\n",
       "         [1., 0., 1., ..., 1., 0., 0.],\n",
       "         [1., 0., 1., ..., 1., 0., 0.]]],\n",
       "\n",
       "\n",
       "       [[[0., 0., 0., ..., 0., 0., 0.],\n",
       "         [0., 0., 0., ..., 0., 0., 0.],\n",
       "         [0., 0., 0., ..., 0., 0., 0.],\n",
       "         ...,\n",
       "         [0., 0., 1., ..., 0., 1., 0.],\n",
       "         [0., 0., 1., ..., 0., 1., 0.],\n",
       "         [0., 0., 1., ..., 0., 1., 0.]],\n",
       "\n",
       "        [[0., 0., 0., ..., 0., 0., 0.],\n",
       "         [0., 0., 0., ..., 0., 0., 0.],\n",
       "         [0., 0., 0., ..., 0., 0., 0.],\n",
       "         ...,\n",
       "         [0., 0., 0., ..., 0., 0., 0.],\n",
       "         [0., 0., 0., ..., 0., 0., 0.],\n",
       "         [0., 0., 0., ..., 0., 0., 0.]],\n",
       "\n",
       "        [[0., 0., 0., ..., 0., 0., 0.],\n",
       "         [0., 0., 0., ..., 0., 0., 0.],\n",
       "         [0., 0., 0., ..., 0., 0., 0.],\n",
       "         ...,\n",
       "         [1., 1., 0., ..., 0., 1., 1.],\n",
       "         [1., 1., 0., ..., 0., 1., 1.],\n",
       "         [1., 1., 0., ..., 0., 1., 1.]],\n",
       "\n",
       "        [[0., 0., 0., ..., 0., 0., 0.],\n",
       "         [0., 0., 0., ..., 0., 0., 0.],\n",
       "         [0., 0., 0., ..., 0., 0., 0.],\n",
       "         ...,\n",
       "         [0., 1., 0., ..., 0., 0., 0.],\n",
       "         [0., 1., 0., ..., 0., 0., 0.],\n",
       "         [0., 1., 0., ..., 0., 0., 0.]]]], dtype=float32)"
      ]
     },
     "execution_count": 20,
     "metadata": {},
     "output_type": "execute_result"
    }
   ],
   "source": [
    "test_ds[:4][0][\"x_hand\"]"
   ]
  },
  {
   "cell_type": "code",
   "execution_count": 12,
   "id": "52235af3-ccf9-4a97-a7b7-05fd7510dcbf",
   "metadata": {
    "scrolled": true
   },
   "outputs": [
    {
     "data": {
      "text/plain": [
       "262763"
      ]
     },
     "execution_count": 12,
     "metadata": {},
     "output_type": "execute_result"
    }
   ],
   "source": [
    "len(test_ds)"
   ]
  },
  {
   "cell_type": "code",
   "execution_count": 13,
   "id": "97a6bbe5-8a6f-4c26-804b-021c3f4b0086",
   "metadata": {
    "scrolled": true
   },
   "outputs": [
    {
     "name": "stdout",
     "output_type": "stream",
     "text": [
      "(270608, 4, 4, 9)\n"
     ]
    }
   ],
   "source": [
    "test_ds.load_next()"
   ]
  },
  {
   "cell_type": "code",
   "execution_count": 14,
   "id": "ee5a2ded-f350-4862-b261-fe414ece4387",
   "metadata": {},
   "outputs": [
    {
     "data": {
      "text/plain": [
       "270608"
      ]
     },
     "execution_count": 14,
     "metadata": {},
     "output_type": "execute_result"
    }
   ],
   "source": [
    "len(test_ds)"
   ]
  },
  {
   "cell_type": "code",
   "execution_count": null,
   "id": "83f31d28-7b87-4714-8e1f-4a17f5d07387",
   "metadata": {},
   "outputs": [],
   "source": []
  }
 ],
 "metadata": {
  "kernelspec": {
   "display_name": "Python 3 (ipykernel)",
   "language": "python",
   "name": "python3"
  },
  "language_info": {
   "codemirror_mode": {
    "name": "ipython",
    "version": 3
   },
   "file_extension": ".py",
   "mimetype": "text/x-python",
   "name": "python",
   "nbconvert_exporter": "python",
   "pygments_lexer": "ipython3",
   "version": "3.10.12"
  }
 },
 "nbformat": 4,
 "nbformat_minor": 5
}
