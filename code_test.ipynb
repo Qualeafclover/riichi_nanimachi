{
 "cells": [
  {
   "cell_type": "code",
   "execution_count": 1,
   "id": "75198d25-a5ba-4c46-b9cb-3e1852a845a0",
   "metadata": {
    "scrolled": true
   },
   "outputs": [],
   "source": [
    "from torch.utils.data import Dataset, DataLoader\n",
    "import torch\n",
    "import numpy as np\n",
    "import glob\n",
    "\n",
    "class MahjongDataset(Dataset):\n",
    "    def __init__(self, data_paths):\n",
    "        self.x_dict = {\n",
    "            \"x_hand\": None, \n",
    "            \"x_hand_red\": None, \n",
    "            \"x_river\": None, \n",
    "            \"x_river_red\": None, \n",
    "            \"x_river_riichi\": None, \n",
    "            \"x_meld\": None, \n",
    "            \"x_meld_red5\": None, \n",
    "            \"x_meld_throw\": None, \n",
    "            \"x_meld_throw_red\": None, \n",
    "            \"x_dora\": None, \n",
    "            \"x_score\": None, \n",
    "            \"x_pool\": None, \n",
    "            \"x_winds\": None}\n",
    "        self.y = None\n",
    "        self.loads = list(map(np.load, data_paths))\n",
    "        self.loads = [np.load(path) for path in data_paths]\n",
    "        \n",
    "        self.load_index = -1\n",
    "        self.load_next()\n",
    "\n",
    "    def unload(self):\n",
    "        self.y = None\n",
    "        self.x = None\n",
    "        for key in self.x_dict.keys():\n",
    "            self.x_dict[key] = None\n",
    "    \n",
    "    def load_next(self):\n",
    "        self.load_index += 1\n",
    "        self.load_index %= len(self.loads)\n",
    "        self.y = self.loads[self.load_index][\"y\"][:2000].astype(np.float32)\n",
    "        for key in self.x_dict.keys():\n",
    "            self.x_dict[key] = self.loads[self.load_index][key][:2000].astype(np.float32)\n",
    "        \n",
    "        # Data pre-processing\n",
    "        # Divide by 250 to average out the score values\n",
    "        self.y /= 250\n",
    "        self.x_dict[\"x_score\"] /= 250\n",
    "        self.x_dict[\"x_pool\"] /= 250\n",
    "        # To predict score difference at the end of the round\n",
    "        self.y -= self.x_dict[\"x_score\"]  \n",
    "        # Resize all input to B, X, 24, 9\n",
    "        self.x_dict[\"x_hand\"] = np.repeat(self.x_dict[\"x_hand\"], 6, -2)\n",
    "        self.x_dict[\"x_hand_red\"] = np.expand_dims(self.x_dict[\"x_hand_red\"], (-1, -2))\n",
    "        self.x_dict[\"x_hand_red\"] = np.repeat(self.x_dict[\"x_hand_red\"], 9, -1)\n",
    "        self.x_dict[\"x_hand_red\"] = np.repeat(self.x_dict[\"x_hand_red\"], 24, -2)\n",
    "        self.x_dict[\"x_river\"] = np.reshape(self.x_dict[\"x_river\"], (*self.x_dict[\"x_river\"].shape[:1], -1, *self.x_dict[\"x_river\"].shape[3:]))\n",
    "        self.x_dict[\"x_river_red\"] = np.expand_dims(self.x_dict[\"x_river_red\"], -1)\n",
    "        self.x_dict[\"x_river_red\"] = np.repeat(self.x_dict[\"x_river_red\"], 9, -1)\n",
    "        self.x_dict[\"x_river_riichi\"] = np.expand_dims(self.x_dict[\"x_river_riichi\"], -1)\n",
    "        self.x_dict[\"x_river_riichi\"] = np.repeat(self.x_dict[\"x_river_riichi\"], 9, -1)\n",
    "        self.x_dict[\"x_meld\"] = np.reshape(self.x_dict[\"x_meld\"], (*self.x_dict[\"x_meld\"].shape[:1], -1, *self.x_dict[\"x_meld\"].shape[3:]))\n",
    "        self.x_dict[\"x_meld\"] = np.repeat(self.x_dict[\"x_meld\"], 6, -2)\n",
    "        self.x_dict[\"x_meld_red5\"] = np.reshape(self.x_dict[\"x_meld_red5\"], (self.x_dict[\"x_meld_red5\"].shape[0], -1))\n",
    "        self.x_dict[\"x_meld_red5\"] = np.expand_dims(self.x_dict[\"x_meld_red5\"], (-1, -2))\n",
    "        self.x_dict[\"x_meld_red5\"] = np.repeat(self.x_dict[\"x_meld_red5\"], 9, -1)\n",
    "        self.x_dict[\"x_meld_red5\"] = np.repeat(self.x_dict[\"x_meld_red5\"], 24, -2)\n",
    "        self.x_dict[\"x_meld_throw\"] = np.reshape(self.x_dict[\"x_meld_throw\"], (self.x_dict[\"x_meld_throw\"].shape[0], -1, *self.x_dict[\"x_meld_throw\"].shape[3:]))\n",
    "        self.x_dict[\"x_meld_throw\"] = np.repeat(self.x_dict[\"x_meld_throw\"], 6, -2)\n",
    "        self.x_dict[\"x_meld_throw_red\"] = np.reshape(self.x_dict[\"x_meld_throw_red\"], (self.x_dict[\"x_meld_throw_red\"].shape[0], -1))\n",
    "        self.x_dict[\"x_meld_throw_red\"] = np.expand_dims(self.x_dict[\"x_meld_throw_red\"], (-1, -2))\n",
    "        self.x_dict[\"x_meld_throw_red\"] = np.repeat(self.x_dict[\"x_meld_throw_red\"], 9, -1)\n",
    "        self.x_dict[\"x_meld_throw_red\"] = np.repeat(self.x_dict[\"x_meld_throw_red\"], 24, -2)\n",
    "        self.x_dict[\"x_dora\"] = np.repeat(self.x_dict[\"x_dora\"], 6, -2)\n",
    "        self.x_dict[\"x_score\"] = np.expand_dims(self.x_dict[\"x_score\"], (-1, -2))\n",
    "        self.x_dict[\"x_score\"] = np.repeat(self.x_dict[\"x_score\"], 9, -1)\n",
    "        self.x_dict[\"x_score\"] = np.repeat(self.x_dict[\"x_score\"], 24, -2)\n",
    "        self.x_dict[\"x_pool\"] = np.expand_dims(self.x_dict[\"x_pool\"], (-1, -2, -3))\n",
    "        self.x_dict[\"x_pool\"] = np.repeat(self.x_dict[\"x_pool\"], 9, -1)\n",
    "        self.x_dict[\"x_pool\"] = np.repeat(self.x_dict[\"x_pool\"], 24, -2)\n",
    "        self.x_dict[\"x_winds\"] = np.expand_dims(self.x_dict[\"x_winds\"], -2)\n",
    "        self.x_dict[\"x_winds\"] = np.repeat(self.x_dict[\"x_winds\"], 24, -2)\n",
    "        \n",
    "        # for varname in self.x_dict.keys():\n",
    "        #     print(varname, self.x_dict[varname].shape)\n",
    "\n",
    "        self.x = np.concatenate(list(self.x_dict.values()), axis=1)\n",
    "\n",
    "        # Unload dict to save memory\n",
    "        for key in self.x_dict.keys():\n",
    "            self.x_dict[key] = None\n",
    "    \n",
    "    def __len__(self):\n",
    "        return len(self.y)\n",
    "    \n",
    "    def __getitem__(self, idx):\n",
    "        if torch.is_tensor(idx):\n",
    "            idx = idx.tolist()\n",
    "        return self.x[idx], self.y[idx]\n",
    "\n",
    "# train_ds = MahjongDataset(sorted(glob.glob(\"dataset/riichi_ds_v02/*.npz\"))[:30])\n",
    "test_ds = MahjongDataset(sorted(glob.glob(\"dataset/riichi_ds_v02/*.npz\"))[30:])"
   ]
  },
  {
   "cell_type": "code",
   "execution_count": 2,
   "id": "4b67fcea-6cb1-4330-bb7e-9fc185db21e2",
   "metadata": {},
   "outputs": [
    {
     "data": {
      "text/plain": [
       "((8, 98, 24, 9), (8, 4))"
      ]
     },
     "execution_count": 2,
     "metadata": {},
     "output_type": "execute_result"
    }
   ],
   "source": [
    "test_ds[:8][0].shape, test_ds[:8][1].shape"
   ]
  },
  {
   "cell_type": "code",
   "execution_count": null,
   "id": "83f31d28-7b87-4714-8e1f-4a17f5d07387",
   "metadata": {},
   "outputs": [],
   "source": []
  }
 ],
 "metadata": {
  "kernelspec": {
   "display_name": "Python 3 (ipykernel)",
   "language": "python",
   "name": "python3"
  },
  "language_info": {
   "codemirror_mode": {
    "name": "ipython",
    "version": 3
   },
   "file_extension": ".py",
   "mimetype": "text/x-python",
   "name": "python",
   "nbconvert_exporter": "python",
   "pygments_lexer": "ipython3",
   "version": "3.10.12"
  }
 },
 "nbformat": 4,
 "nbformat_minor": 5
}
