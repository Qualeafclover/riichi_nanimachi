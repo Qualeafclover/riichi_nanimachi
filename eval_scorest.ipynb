{
 "cells": [
  {
   "cell_type": "code",
   "execution_count": 1,
   "id": "4a558690-1571-409a-be3f-72c1a855a5fc",
   "metadata": {},
   "outputs": [],
   "source": [
    "import torch\n",
    "import numpy as np\n",
    "import requests\n",
    "import sys\n",
    "\n",
    "if \"utils\" in sys.modules:\n",
    "    del sys.modules[\"utils\"]\n",
    "from utils import MahjongGame4P, mjg2imgstate, MahjongDataset"
   ]
  },
  {
   "cell_type": "code",
   "execution_count": 2,
   "id": "9d26c5e7-3ec9-45bc-87b4-6224f6fceaba",
   "metadata": {},
   "outputs": [
    {
     "name": "stdout",
     "output_type": "stream",
     "text": [
      "----------------------------------------------------------------\n",
      "        Layer (type)               Output Shape         Param #\n",
      "================================================================\n",
      "            Conv2d-1           [-1, 256, 19, 9]       1,053,952\n",
      "              ReLU-2           [-1, 256, 19, 9]               0\n",
      "       BatchNorm2d-3           [-1, 256, 19, 9]             512\n",
      "            Conv2d-4           [-1, 256, 14, 9]       2,752,768\n",
      "              ReLU-5           [-1, 256, 14, 9]               0\n",
      "       BatchNorm2d-6           [-1, 256, 14, 9]             512\n",
      "            Conv2d-7            [-1, 256, 9, 9]       2,752,768\n",
      "              ReLU-8            [-1, 256, 9, 9]               0\n",
      "       BatchNorm2d-9            [-1, 256, 9, 9]             512\n",
      "           Conv2d-10            [-1, 512, 9, 9]       1,180,160\n",
      "             ReLU-11            [-1, 512, 9, 9]               0\n",
      "      BatchNorm2d-12            [-1, 512, 9, 9]           1,024\n",
      "        MaxPool2d-13            [-1, 512, 3, 3]               0\n",
      "           Conv2d-14           [-1, 1024, 3, 3]       4,719,616\n",
      "             ReLU-15           [-1, 1024, 3, 3]               0\n",
      "      BatchNorm2d-16           [-1, 1024, 3, 3]           2,048\n",
      "          Flatten-17                 [-1, 9216]               0\n",
      "           Linear-18                  [-1, 256]       2,359,552\n",
      "             ReLU-19                  [-1, 256]               0\n",
      "      BatchNorm1d-20                  [-1, 256]             512\n",
      "           Linear-21                    [-1, 4]           1,028\n",
      "================================================================\n",
      "Total params: 14,824,964\n",
      "Trainable params: 14,824,964\n",
      "Non-trainable params: 0\n",
      "----------------------------------------------------------------\n",
      "Input size (MB): 0.08\n",
      "Forward/backward pass size (MB): 3.49\n",
      "Params size (MB): 56.55\n",
      "Estimated Total Size (MB): 60.12\n",
      "----------------------------------------------------------------\n"
     ]
    }
   ],
   "source": [
    "# Increasing layers\n",
    "\n",
    "from torchsummary import summary\n",
    "\n",
    "\n",
    "class ModelV1(torch.nn.Module):\n",
    "    def __init__(self):\n",
    "        super(ModelV1, self).__init__()\n",
    "        self.relu = torch.nn.ReLU()\n",
    "        self.flatten = torch.nn.Flatten()\n",
    "        self.max_pool = torch.nn.MaxPool2d(3)\n",
    "        \n",
    "        self.conv2d_1 = torch.nn.Conv2d(98, 256, (6, 7), padding=(0, 3))\n",
    "        self.bn_1 = torch.nn.BatchNorm2d(256)\n",
    "        \n",
    "        self.conv2d_2 = torch.nn.Conv2d(256, 256, (6, 7), padding=(0, 3))\n",
    "        self.bn_2 = torch.nn.BatchNorm2d(256)\n",
    "        \n",
    "        self.conv2d_3 = torch.nn.Conv2d(256, 256, (6, 7), padding=(0, 3))\n",
    "        self.bn_3 = torch.nn.BatchNorm2d(256)\n",
    "        \n",
    "        self.conv2d_4 = torch.nn.Conv2d(256, 512, 3, padding=1)\n",
    "        self.bn_4 = torch.nn.BatchNorm2d(512)\n",
    "        \n",
    "        self.conv2d_5 = torch.nn.Conv2d(512, 1024, 3, padding=1)\n",
    "        self.bn_5 = torch.nn.BatchNorm2d(1024)\n",
    "        \n",
    "        self.fc_1 = torch.nn.Linear(9216, 256)\n",
    "        self.bn_6 = torch.nn.BatchNorm1d(256)\n",
    "        \n",
    "        self.fc_2 = torch.nn.Linear(256, 4)\n",
    "    \n",
    "    def forward(self, x):\n",
    "        x = self.bn_1(self.relu(self.conv2d_1(x)))\n",
    "        x = self.bn_2(self.relu(self.conv2d_2(x)))\n",
    "        x = self.bn_3(self.relu(self.conv2d_3(x)))\n",
    "        x = self.bn_4(self.relu(self.conv2d_4(x)))\n",
    "        x = self.max_pool(x)\n",
    "        x = self.bn_5(self.relu(self.conv2d_5(x)))\n",
    "        x = self.flatten(x)\n",
    "        x = self.bn_6(self.relu(self.fc_1(x)))\n",
    "        x = self.fc_2(x)\n",
    "        return x\n",
    "\n",
    "summary(ModelV1(), (98, 24, 9), device=\"cpu\")"
   ]
  },
  {
   "cell_type": "code",
   "execution_count": 3,
   "id": "ad0426a1-7f4f-4dda-9edd-d90d646265b7",
   "metadata": {},
   "outputs": [
    {
     "data": {
      "text/plain": [
       "DataParallel(\n",
       "  (module): ModelV1(\n",
       "    (relu): ReLU()\n",
       "    (flatten): Flatten(start_dim=1, end_dim=-1)\n",
       "    (max_pool): MaxPool2d(kernel_size=3, stride=3, padding=0, dilation=1, ceil_mode=False)\n",
       "    (conv2d_1): Conv2d(98, 256, kernel_size=(6, 7), stride=(1, 1), padding=(0, 3))\n",
       "    (bn_1): BatchNorm2d(256, eps=1e-05, momentum=0.1, affine=True, track_running_stats=True)\n",
       "    (conv2d_2): Conv2d(256, 256, kernel_size=(6, 7), stride=(1, 1), padding=(0, 3))\n",
       "    (bn_2): BatchNorm2d(256, eps=1e-05, momentum=0.1, affine=True, track_running_stats=True)\n",
       "    (conv2d_3): Conv2d(256, 256, kernel_size=(6, 7), stride=(1, 1), padding=(0, 3))\n",
       "    (bn_3): BatchNorm2d(256, eps=1e-05, momentum=0.1, affine=True, track_running_stats=True)\n",
       "    (conv2d_4): Conv2d(256, 512, kernel_size=(3, 3), stride=(1, 1), padding=(1, 1))\n",
       "    (bn_4): BatchNorm2d(512, eps=1e-05, momentum=0.1, affine=True, track_running_stats=True)\n",
       "    (conv2d_5): Conv2d(512, 1024, kernel_size=(3, 3), stride=(1, 1), padding=(1, 1))\n",
       "    (bn_5): BatchNorm2d(1024, eps=1e-05, momentum=0.1, affine=True, track_running_stats=True)\n",
       "    (fc_1): Linear(in_features=9216, out_features=256, bias=True)\n",
       "    (bn_6): BatchNorm1d(256, eps=1e-05, momentum=0.1, affine=True, track_running_stats=True)\n",
       "    (fc_2): Linear(in_features=256, out_features=4, bias=True)\n",
       "  )\n",
       ")"
      ]
     },
     "execution_count": 3,
     "metadata": {},
     "output_type": "execute_result"
    }
   ],
   "source": [
    "model = ModelV1()\n",
    "model = torch.nn.DataParallel(model)\n",
    "model.load_state_dict(torch.load(\"models/model.pth\"))\n",
    "model.to(\"cuda\")\n",
    "model.eval()"
   ]
  },
  {
   "cell_type": "code",
   "execution_count": 4,
   "id": "9c500218-a81f-4c51-8944-19c76807d7d4",
   "metadata": {},
   "outputs": [],
   "source": [
    "LOG_HTML_FORMAT = \"https://tenhou.net/0/log/?{log}\"\n",
    "HEADERS = {\"User-Agent\": \"Mozilla/5.0 (Windows NT 6.1; Win64; x64; rv:47.0) Gecko/20100101 Firefox/47.0\"}\n",
    "\n",
    "game_text = requests.get(LOG_HTML_FORMAT.format(log=\"2024021222gm-0001-0000-30c7666f\"), headers=HEADERS).text"
   ]
  },
  {
   "cell_type": "code",
   "execution_count": 58,
   "id": "6ce8e3b3-d7ad-414e-b9aa-f3cb42504759",
   "metadata": {
    "scrolled": true
   },
   "outputs": [
    {
     "data": {
      "text/markdown": [
       "<style>red{background:radial-gradient(red,black);-webkit-background-clip:text;-webkit-text-fill-color:transparent;}            rot{width:1.59em;transform:rotate(270deg)translateX(0.23em);display:inline-block;margin:0em -0.23em 0em -0.36em;}            #table{background-color:lightgray;color:black;line-height:1em;position:relative;font-size:30px;width:500px;height:500px;}            #dora_shown{font-size:25px;position:absolute;top:40%;left:50%;transform:translateX(-50%);}            #game_stats{line-height:1.2em;font-size:15px;text-align:center;position:absolute;top:48%;left:50%;transform:translateX(-50%);}            #east_stats{font-size:15px;position:absolute;top:60%;left:50%;transform:translateX(-50%);}            #east_river{position:absolute;top:65%;left:50%;transform:translateX(-2.45em);}            #east_hand{position:absolute;bottom:10%;left:0%;transform:translateX(250px)translateX(-50%);}            #east_meld{position:absolute;bottom:0.5%;right:0.5%;}            #south_stats{font-size:15px;position:absolute;bottom:50%;left:60%;transform:translateY(50%)translateX(-50%)rotate(270deg)translateY(50%);}            #south_river{position:absolute;bottom:50%;right:35%;transform:translateY(50%)translateX(50%)rotate(270deg)translateY(50%)translateX(50%)translateX(-2.45em);}            #south_hand{position:absolute;bottom:50%;right:10%;transform:translateY(50%)translateX(50%)rotate(270deg)translateY(-50%);}            #south_meld{position:absolute;top:0.5%;right:0.5%;transform:translateY(-50%)translateX(50%)rotate(270deg)translateX(-50%)translateY(-50%);}            #west_stats{font-size:15px;position:absolute;bottom:60%;left:50%;transform:translateX(-50%)rotate(180deg);}            #west_river{position:absolute;bottom:65%;right:50%;transform:rotate(180deg)translateX(-2.45em);}            #west_hand{position:absolute;top:10%;left:0%;transform:translateX(250px)translateX(-50%)rotate(180deg);}            #west_meld{position:absolute;top:0.5%;left:0.5%;transform:rotate(180deg);}            #north_stats{font-size:15px;position:absolute;top:50%;right:60%;transform:translateY(-50%)translateX(50%)rotate(90deg)translateY(50%);}            #north_river{position:absolute;top:50%;left:35%;transform:translateY(-50%)translateX(-50%)rotate(90deg)translateY(50%)translateX(50%)translateX(-2.45em);}            #north_hand{position:absolute;top:50%;left:10.0%;transform:translateY(-50%)translateX(-50%)rotate(90deg)translateY(-50%);}            #north_meld{position:absolute;bottom:0.5%;left:0.5%;transform:translateY(50%)translateX(-50%)rotate(90deg)translateX(-50%)translateY(-50%);}</style><div id=table><div id=dora_shown>🀕🀫🀫🀫🀫</div>        \t<div id=game_stats>四麻赤<br>東1局<br>0本場0供託</div>            \t<div id=east_stats><b>東家 25000</b></div>            \t<div id=east_river>🀙🀡🀄︎🀀🀌<br><br></div>            \t<div id=east_hand>🀇🀉🀉🀎🀏🀝🀝🀔🀖🀘🀘🀃🀃 🀐</div>            \t<div id=east_meld></div>            \t<div id=south_stats>南家 25000</div>            \t<div id=south_river>🀃🀂🀁🀀🀅<br><br></div>            \t<div id=south_hand>🀇🀇🀋🀍🀎🀏🀟🀠🀠🀡🀒🀒🀔</div>            \t<div id=south_meld></div>            \t<div id=west_stats>西家 25000</div>            \t<div id=west_river>🀁🀗🀓🀛🀂<br><br></div>            \t<div id=west_hand>🀇🀈🀉🀉🀋🀍🀛🀝🀞🀕🀖🀗🀂</div>            \t<div id=west_meld></div>            \t<div id=north_stats>北家 25000</div>            \t<div id=north_river>🀂🀐🀀🀙🀠<br><br></div>            \t<div id=north_hand>🀈🀊🀎🀎🀚🀜🀟🀠<red>🀔</red>🀖🀖🀗🀘</div>            \t<div id=north_meld></div>"
      ],
      "text/plain": [
       "<IPython.core.display.Markdown object>"
      ]
     },
     "metadata": {},
     "output_type": "display_data"
    },
    {
     "name": "stdout",
     "output_type": "stream",
     "text": [
      "{'🀃': tensor(0.0734, device='cuda:0', grad_fn=<SelectBackward0>),\n",
      " '🀇': tensor(0.0690, device='cuda:0', grad_fn=<SelectBackward0>),\n",
      " '🀉': tensor(0.0732, device='cuda:0', grad_fn=<SelectBackward0>),\n",
      " '🀎': tensor(0.0714, device='cuda:0', grad_fn=<SelectBackward0>),\n",
      " '🀏': tensor(0.0705, device='cuda:0', grad_fn=<SelectBackward0>),\n",
      " '🀐': tensor(0.0703, device='cuda:0', grad_fn=<SelectBackward0>),\n",
      " '🀔': tensor(0.0728, device='cuda:0', grad_fn=<SelectBackward0>),\n",
      " '🀖': tensor(0.0692, device='cuda:0', grad_fn=<SelectBackward0>),\n",
      " '🀘': tensor(0.0730, device='cuda:0', grad_fn=<SelectBackward0>),\n",
      " '🀝': tensor(0.0688, device='cuda:0', grad_fn=<SelectBackward0>)}\n"
     ]
    }
   ],
   "source": [
    "import copy\n",
    "from pprint import pprint\n",
    "\n",
    "game = MahjongGame4P(game_text)\n",
    "game.select_round(0)\n",
    "for _ in range(40):\n",
    "    game.step(verbose=False)\n",
    "while True:\n",
    "    action, end = game.step(verbose=False)\n",
    "    \n",
    "    if action[\"action\"] == \"draw\":\n",
    "        game.render()\n",
    "        tiles_throwable = sorted(game.hai[game.turn] + [game.tile_held[game.turn]])\n",
    "        imgstate = {}\n",
    "        for tile in tiles_throwable:\n",
    "            move = {\"action\": \"throw\", \"who\": game.turn, \"tile\": tile}\n",
    "            game_copy = copy.deepcopy(game)\n",
    "            game_copy.step(move, verbose=False)\n",
    "            \n",
    "            for key, value in mjg2imgstate(game_copy).items():\n",
    "                value = np.expand_dims(value, 0).astype(np.float32)\n",
    "                if key in imgstate.keys():\n",
    "                    imgstate[key] = np.concatenate([imgstate[key], value], axis=0)\n",
    "                else:\n",
    "                    imgstate[key] = value\n",
    "                    \n",
    "        data = MahjongDataset([], load=False)\n",
    "        data.y = imgstate.pop(\"y\")\n",
    "        data.x_dict = imgstate\n",
    "        data.post_load()\n",
    "    \n",
    "        x = torch.from_numpy(data[:][0]).to(\"cuda\")\n",
    "        pred = model(x)#.cpu().detach().numpy() * 25000\n",
    "        pred = torch.softmax(pred[:, 0], dim=0)\n",
    "        y = data[:][1] * 25000\n",
    "        choice_dict = {game.id2str(tile): pred[n] for n, tile in enumerate(tiles_throwable)}\n",
    "        pprint(choice_dict)\n",
    "        break\n",
    "    if end:\n",
    "        break"
   ]
  },
  {
   "cell_type": "code",
   "execution_count": 11,
   "id": "ede233a2-2eae-4eed-98db-cfc461d67f68",
   "metadata": {
    "scrolled": true
   },
   "outputs": [
    {
     "name": "stdout",
     "output_type": "stream",
     "text": [
      "{'action': 'draw', 'who': 1, 'tile': 17}\n",
      "{'action': 'throw', 'who': 1, 'tile': 8}\n",
      "Prediction: [[ 3342.2485    613.4584   -191.92323 -3613.0168 ]]\n"
     ]
    },
    {
     "data": {
      "text/markdown": [
       "<style>red{background:radial-gradient(red,black);-webkit-background-clip:text;-webkit-text-fill-color:transparent;}            rot{width:1.59em;transform:rotate(270deg)translateX(0.23em);display:inline-block;margin:0em -0.23em 0em -0.36em;}            #table{background-color:lightgray;color:black;line-height:1em;position:relative;font-size:30px;width:500px;height:500px;}            #dora_shown{font-size:25px;position:absolute;top:40%;left:50%;transform:translateX(-50%);}            #game_stats{line-height:1.2em;font-size:15px;text-align:center;position:absolute;top:48%;left:50%;transform:translateX(-50%);}            #east_stats{font-size:15px;position:absolute;top:60%;left:50%;transform:translateX(-50%);}            #east_river{position:absolute;top:65%;left:50%;transform:translateX(-2.45em);}            #east_hand{position:absolute;bottom:10%;left:0%;transform:translateX(250px)translateX(-50%);}            #east_meld{position:absolute;bottom:0.5%;right:0.5%;}            #south_stats{font-size:15px;position:absolute;bottom:50%;left:60%;transform:translateY(50%)translateX(-50%)rotate(270deg)translateY(50%);}            #south_river{position:absolute;bottom:50%;right:35%;transform:translateY(50%)translateX(50%)rotate(270deg)translateY(50%)translateX(50%)translateX(-2.45em);}            #south_hand{position:absolute;bottom:50%;right:10%;transform:translateY(50%)translateX(50%)rotate(270deg)translateY(-50%);}            #south_meld{position:absolute;top:0.5%;right:0.5%;transform:translateY(-50%)translateX(50%)rotate(270deg)translateX(-50%)translateY(-50%);}            #west_stats{font-size:15px;position:absolute;bottom:60%;left:50%;transform:translateX(-50%)rotate(180deg);}            #west_river{position:absolute;bottom:65%;right:50%;transform:rotate(180deg)translateX(-2.45em);}            #west_hand{position:absolute;top:10%;left:0%;transform:translateX(250px)translateX(-50%)rotate(180deg);}            #west_meld{position:absolute;top:0.5%;left:0.5%;transform:rotate(180deg);}            #north_stats{font-size:15px;position:absolute;top:50%;right:60%;transform:translateY(-50%)translateX(50%)rotate(90deg)translateY(50%);}            #north_river{position:absolute;top:50%;left:35%;transform:translateY(-50%)translateX(-50%)rotate(90deg)translateY(50%)translateX(50%)translateX(-2.45em);}            #north_hand{position:absolute;top:50%;left:10.0%;transform:translateY(-50%)translateX(-50%)rotate(90deg)translateY(-50%);}            #north_meld{position:absolute;bottom:0.5%;left:0.5%;transform:translateY(50%)translateX(-50%)rotate(90deg)translateX(-50%)translateY(-50%);}</style><div id=table><div id=dora_shown>🀀🀫🀫🀫🀫</div>        \t<div id=game_stats>四麻赤<br>東2局<br>1本場1供託</div>            \t<div id=east_stats>北家 23500</div>            \t<div id=east_river><br><br></div>            \t<div id=east_hand>🀊🀊🀋🀝🀐🀑🀓🀗🀘🀘🀂🀆🀅</div>            \t<div id=east_meld></div>            \t<div id=south_stats><b>東家 25500</b></div>            \t<div id=south_river>🀉<br><br></div>            \t<div id=south_hand>🀋🀎🀚🀛🀛🀡🀐🀒🀗🀁🀃🀃🀆</div>            \t<div id=south_meld></div>            \t<div id=west_stats>南家 23500</div>            \t<div id=west_river><br><br></div>            \t<div id=west_hand>🀇🀋🀚🀝🀝🀞🀐🀑<red>🀔</red>🀖🀀🀁🀂</div>            \t<div id=west_meld></div>            \t<div id=north_stats>西家 26500</div>            \t<div id=north_river><br><br></div>            \t<div id=north_hand>🀇🀌🀍🀜🀡🀐🀑🀓🀕🀕🀖🀁🀂</div>            \t<div id=north_meld></div>"
      ],
      "text/plain": [
       "<IPython.core.display.Markdown object>"
      ]
     },
     "metadata": {},
     "output_type": "display_data"
    },
    {
     "name": "stdout",
     "output_type": "stream",
     "text": [
      "{'action': 'draw', 'who': 1, 'tile': 17}\n",
      "{'action': 'throw', 'who': 1, 'tile': 29}\n",
      "Prediction: [[ 3653.7285     -88.339836   827.5857   -4269.744   ]]\n"
     ]
    },
    {
     "data": {
      "text/markdown": [
       "<style>red{background:radial-gradient(red,black);-webkit-background-clip:text;-webkit-text-fill-color:transparent;}            rot{width:1.59em;transform:rotate(270deg)translateX(0.23em);display:inline-block;margin:0em -0.23em 0em -0.36em;}            #table{background-color:lightgray;color:black;line-height:1em;position:relative;font-size:30px;width:500px;height:500px;}            #dora_shown{font-size:25px;position:absolute;top:40%;left:50%;transform:translateX(-50%);}            #game_stats{line-height:1.2em;font-size:15px;text-align:center;position:absolute;top:48%;left:50%;transform:translateX(-50%);}            #east_stats{font-size:15px;position:absolute;top:60%;left:50%;transform:translateX(-50%);}            #east_river{position:absolute;top:65%;left:50%;transform:translateX(-2.45em);}            #east_hand{position:absolute;bottom:10%;left:0%;transform:translateX(250px)translateX(-50%);}            #east_meld{position:absolute;bottom:0.5%;right:0.5%;}            #south_stats{font-size:15px;position:absolute;bottom:50%;left:60%;transform:translateY(50%)translateX(-50%)rotate(270deg)translateY(50%);}            #south_river{position:absolute;bottom:50%;right:35%;transform:translateY(50%)translateX(50%)rotate(270deg)translateY(50%)translateX(50%)translateX(-2.45em);}            #south_hand{position:absolute;bottom:50%;right:10%;transform:translateY(50%)translateX(50%)rotate(270deg)translateY(-50%);}            #south_meld{position:absolute;top:0.5%;right:0.5%;transform:translateY(-50%)translateX(50%)rotate(270deg)translateX(-50%)translateY(-50%);}            #west_stats{font-size:15px;position:absolute;bottom:60%;left:50%;transform:translateX(-50%)rotate(180deg);}            #west_river{position:absolute;bottom:65%;right:50%;transform:rotate(180deg)translateX(-2.45em);}            #west_hand{position:absolute;top:10%;left:0%;transform:translateX(250px)translateX(-50%)rotate(180deg);}            #west_meld{position:absolute;top:0.5%;left:0.5%;transform:rotate(180deg);}            #north_stats{font-size:15px;position:absolute;top:50%;right:60%;transform:translateY(-50%)translateX(50%)rotate(90deg)translateY(50%);}            #north_river{position:absolute;top:50%;left:35%;transform:translateY(-50%)translateX(-50%)rotate(90deg)translateY(50%)translateX(50%)translateX(-2.45em);}            #north_hand{position:absolute;top:50%;left:10.0%;transform:translateY(-50%)translateX(-50%)rotate(90deg)translateY(-50%);}            #north_meld{position:absolute;bottom:0.5%;left:0.5%;transform:translateY(50%)translateX(-50%)rotate(90deg)translateX(-50%)translateY(-50%);}</style><div id=table><div id=dora_shown>🀀🀫🀫🀫🀫</div>        \t<div id=game_stats>四麻赤<br>東2局<br>1本場1供託</div>            \t<div id=east_stats>北家 23500</div>            \t<div id=east_river><br><br></div>            \t<div id=east_hand>🀊🀊🀋🀝🀐🀑🀓🀗🀘🀘🀂🀆🀅</div>            \t<div id=east_meld></div>            \t<div id=south_stats><b>東家 25500</b></div>            \t<div id=south_river>🀎<br><br></div>            \t<div id=south_hand>🀉🀋🀚🀛🀛🀡🀐🀒🀗🀁🀃🀃🀆</div>            \t<div id=south_meld></div>            \t<div id=west_stats>南家 23500</div>            \t<div id=west_river><br><br></div>            \t<div id=west_hand>🀇🀋🀚🀝🀝🀞🀐🀑<red>🀔</red>🀖🀀🀁🀂</div>            \t<div id=west_meld></div>            \t<div id=north_stats>西家 26500</div>            \t<div id=north_river><br><br></div>            \t<div id=north_hand>🀇🀌🀍🀜🀡🀐🀑🀓🀕🀕🀖🀁🀂</div>            \t<div id=north_meld></div>"
      ],
      "text/plain": [
       "<IPython.core.display.Markdown object>"
      ]
     },
     "metadata": {},
     "output_type": "display_data"
    },
    {
     "name": "stdout",
     "output_type": "stream",
     "text": [
      "{'action': 'draw', 'who': 1, 'tile': 17}\n",
      "{'action': 'throw', 'who': 1, 'tile': 42}\n",
      "Prediction: [[ 2524.8457   417.365    996.8427 -3770.3079]]\n"
     ]
    },
    {
     "data": {
      "text/markdown": [
       "<style>red{background:radial-gradient(red,black);-webkit-background-clip:text;-webkit-text-fill-color:transparent;}            rot{width:1.59em;transform:rotate(270deg)translateX(0.23em);display:inline-block;margin:0em -0.23em 0em -0.36em;}            #table{background-color:lightgray;color:black;line-height:1em;position:relative;font-size:30px;width:500px;height:500px;}            #dora_shown{font-size:25px;position:absolute;top:40%;left:50%;transform:translateX(-50%);}            #game_stats{line-height:1.2em;font-size:15px;text-align:center;position:absolute;top:48%;left:50%;transform:translateX(-50%);}            #east_stats{font-size:15px;position:absolute;top:60%;left:50%;transform:translateX(-50%);}            #east_river{position:absolute;top:65%;left:50%;transform:translateX(-2.45em);}            #east_hand{position:absolute;bottom:10%;left:0%;transform:translateX(250px)translateX(-50%);}            #east_meld{position:absolute;bottom:0.5%;right:0.5%;}            #south_stats{font-size:15px;position:absolute;bottom:50%;left:60%;transform:translateY(50%)translateX(-50%)rotate(270deg)translateY(50%);}            #south_river{position:absolute;bottom:50%;right:35%;transform:translateY(50%)translateX(50%)rotate(270deg)translateY(50%)translateX(50%)translateX(-2.45em);}            #south_hand{position:absolute;bottom:50%;right:10%;transform:translateY(50%)translateX(50%)rotate(270deg)translateY(-50%);}            #south_meld{position:absolute;top:0.5%;right:0.5%;transform:translateY(-50%)translateX(50%)rotate(270deg)translateX(-50%)translateY(-50%);}            #west_stats{font-size:15px;position:absolute;bottom:60%;left:50%;transform:translateX(-50%)rotate(180deg);}            #west_river{position:absolute;bottom:65%;right:50%;transform:rotate(180deg)translateX(-2.45em);}            #west_hand{position:absolute;top:10%;left:0%;transform:translateX(250px)translateX(-50%)rotate(180deg);}            #west_meld{position:absolute;top:0.5%;left:0.5%;transform:rotate(180deg);}            #north_stats{font-size:15px;position:absolute;top:50%;right:60%;transform:translateY(-50%)translateX(50%)rotate(90deg)translateY(50%);}            #north_river{position:absolute;top:50%;left:35%;transform:translateY(-50%)translateX(-50%)rotate(90deg)translateY(50%)translateX(50%)translateX(-2.45em);}            #north_hand{position:absolute;top:50%;left:10.0%;transform:translateY(-50%)translateX(-50%)rotate(90deg)translateY(-50%);}            #north_meld{position:absolute;bottom:0.5%;left:0.5%;transform:translateY(50%)translateX(-50%)rotate(90deg)translateX(-50%)translateY(-50%);}</style><div id=table><div id=dora_shown>🀀🀫🀫🀫🀫</div>        \t<div id=game_stats>四麻赤<br>東2局<br>1本場1供託</div>            \t<div id=east_stats>北家 23500</div>            \t<div id=east_river><br><br></div>            \t<div id=east_hand>🀊🀊🀋🀝🀐🀑🀓🀗🀘🀘🀂🀆🀅</div>            \t<div id=east_meld></div>            \t<div id=south_stats><b>東家 25500</b></div>            \t<div id=south_river>🀚<br><br></div>            \t<div id=south_hand>🀉🀋🀎🀛🀛🀡🀐🀒🀗🀁🀃🀃🀆</div>            \t<div id=south_meld></div>            \t<div id=west_stats>南家 23500</div>            \t<div id=west_river><br><br></div>            \t<div id=west_hand>🀇🀋🀚🀝🀝🀞🀐🀑<red>🀔</red>🀖🀀🀁🀂</div>            \t<div id=west_meld></div>            \t<div id=north_stats>西家 26500</div>            \t<div id=north_river><br><br></div>            \t<div id=north_hand>🀇🀌🀍🀜🀡🀐🀑🀓🀕🀕🀖🀁🀂</div>            \t<div id=north_meld></div>"
      ],
      "text/plain": [
       "<IPython.core.display.Markdown object>"
      ]
     },
     "metadata": {},
     "output_type": "display_data"
    },
    {
     "name": "stdout",
     "output_type": "stream",
     "text": [
      "{'action': 'draw', 'who': 1, 'tile': 17}\n",
      "{'action': 'throw', 'who': 1, 'tile': 45}\n",
      "Prediction: [[ 2804.11    -736.9564   103.2294 -2009.6699]]\n"
     ]
    },
    {
     "data": {
      "text/markdown": [
       "<style>red{background:radial-gradient(red,black);-webkit-background-clip:text;-webkit-text-fill-color:transparent;}            rot{width:1.59em;transform:rotate(270deg)translateX(0.23em);display:inline-block;margin:0em -0.23em 0em -0.36em;}            #table{background-color:lightgray;color:black;line-height:1em;position:relative;font-size:30px;width:500px;height:500px;}            #dora_shown{font-size:25px;position:absolute;top:40%;left:50%;transform:translateX(-50%);}            #game_stats{line-height:1.2em;font-size:15px;text-align:center;position:absolute;top:48%;left:50%;transform:translateX(-50%);}            #east_stats{font-size:15px;position:absolute;top:60%;left:50%;transform:translateX(-50%);}            #east_river{position:absolute;top:65%;left:50%;transform:translateX(-2.45em);}            #east_hand{position:absolute;bottom:10%;left:0%;transform:translateX(250px)translateX(-50%);}            #east_meld{position:absolute;bottom:0.5%;right:0.5%;}            #south_stats{font-size:15px;position:absolute;bottom:50%;left:60%;transform:translateY(50%)translateX(-50%)rotate(270deg)translateY(50%);}            #south_river{position:absolute;bottom:50%;right:35%;transform:translateY(50%)translateX(50%)rotate(270deg)translateY(50%)translateX(50%)translateX(-2.45em);}            #south_hand{position:absolute;bottom:50%;right:10%;transform:translateY(50%)translateX(50%)rotate(270deg)translateY(-50%);}            #south_meld{position:absolute;top:0.5%;right:0.5%;transform:translateY(-50%)translateX(50%)rotate(270deg)translateX(-50%)translateY(-50%);}            #west_stats{font-size:15px;position:absolute;bottom:60%;left:50%;transform:translateX(-50%)rotate(180deg);}            #west_river{position:absolute;bottom:65%;right:50%;transform:rotate(180deg)translateX(-2.45em);}            #west_hand{position:absolute;top:10%;left:0%;transform:translateX(250px)translateX(-50%)rotate(180deg);}            #west_meld{position:absolute;top:0.5%;left:0.5%;transform:rotate(180deg);}            #north_stats{font-size:15px;position:absolute;top:50%;right:60%;transform:translateY(-50%)translateX(50%)rotate(90deg)translateY(50%);}            #north_river{position:absolute;top:50%;left:35%;transform:translateY(-50%)translateX(-50%)rotate(90deg)translateY(50%)translateX(50%)translateX(-2.45em);}            #north_hand{position:absolute;top:50%;left:10.0%;transform:translateY(-50%)translateX(-50%)rotate(90deg)translateY(-50%);}            #north_meld{position:absolute;bottom:0.5%;left:0.5%;transform:translateY(50%)translateX(-50%)rotate(90deg)translateX(-50%)translateY(-50%);}</style><div id=table><div id=dora_shown>🀀🀫🀫🀫🀫</div>        \t<div id=game_stats>四麻赤<br>東2局<br>1本場1供託</div>            \t<div id=east_stats>北家 23500</div>            \t<div id=east_river><br><br></div>            \t<div id=east_hand>🀊🀊🀋🀝🀐🀑🀓🀗🀘🀘🀂🀆🀅</div>            \t<div id=east_meld></div>            \t<div id=south_stats><b>東家 25500</b></div>            \t<div id=south_river>🀛<br><br></div>            \t<div id=south_hand>🀉🀋🀎🀚🀛🀡🀐🀒🀗🀁🀃🀃🀆</div>            \t<div id=south_meld></div>            \t<div id=west_stats>南家 23500</div>            \t<div id=west_river><br><br></div>            \t<div id=west_hand>🀇🀋🀚🀝🀝🀞🀐🀑<red>🀔</red>🀖🀀🀁🀂</div>            \t<div id=west_meld></div>            \t<div id=north_stats>西家 26500</div>            \t<div id=north_river><br><br></div>            \t<div id=north_hand>🀇🀌🀍🀜🀡🀐🀑🀓🀕🀕🀖🀁🀂</div>            \t<div id=north_meld></div>"
      ],
      "text/plain": [
       "<IPython.core.display.Markdown object>"
      ]
     },
     "metadata": {},
     "output_type": "display_data"
    },
    {
     "name": "stdout",
     "output_type": "stream",
     "text": [
      "{'action': 'draw', 'who': 1, 'tile': 17}\n",
      "{'action': 'throw', 'who': 1, 'tile': 46}\n",
      "Prediction: [[ 2804.11    -736.9564   103.2294 -2009.6699]]\n"
     ]
    },
    {
     "data": {
      "text/markdown": [
       "<style>red{background:radial-gradient(red,black);-webkit-background-clip:text;-webkit-text-fill-color:transparent;}            rot{width:1.59em;transform:rotate(270deg)translateX(0.23em);display:inline-block;margin:0em -0.23em 0em -0.36em;}            #table{background-color:lightgray;color:black;line-height:1em;position:relative;font-size:30px;width:500px;height:500px;}            #dora_shown{font-size:25px;position:absolute;top:40%;left:50%;transform:translateX(-50%);}            #game_stats{line-height:1.2em;font-size:15px;text-align:center;position:absolute;top:48%;left:50%;transform:translateX(-50%);}            #east_stats{font-size:15px;position:absolute;top:60%;left:50%;transform:translateX(-50%);}            #east_river{position:absolute;top:65%;left:50%;transform:translateX(-2.45em);}            #east_hand{position:absolute;bottom:10%;left:0%;transform:translateX(250px)translateX(-50%);}            #east_meld{position:absolute;bottom:0.5%;right:0.5%;}            #south_stats{font-size:15px;position:absolute;bottom:50%;left:60%;transform:translateY(50%)translateX(-50%)rotate(270deg)translateY(50%);}            #south_river{position:absolute;bottom:50%;right:35%;transform:translateY(50%)translateX(50%)rotate(270deg)translateY(50%)translateX(50%)translateX(-2.45em);}            #south_hand{position:absolute;bottom:50%;right:10%;transform:translateY(50%)translateX(50%)rotate(270deg)translateY(-50%);}            #south_meld{position:absolute;top:0.5%;right:0.5%;transform:translateY(-50%)translateX(50%)rotate(270deg)translateX(-50%)translateY(-50%);}            #west_stats{font-size:15px;position:absolute;bottom:60%;left:50%;transform:translateX(-50%)rotate(180deg);}            #west_river{position:absolute;bottom:65%;right:50%;transform:rotate(180deg)translateX(-2.45em);}            #west_hand{position:absolute;top:10%;left:0%;transform:translateX(250px)translateX(-50%)rotate(180deg);}            #west_meld{position:absolute;top:0.5%;left:0.5%;transform:rotate(180deg);}            #north_stats{font-size:15px;position:absolute;top:50%;right:60%;transform:translateY(-50%)translateX(50%)rotate(90deg)translateY(50%);}            #north_river{position:absolute;top:50%;left:35%;transform:translateY(-50%)translateX(-50%)rotate(90deg)translateY(50%)translateX(50%)translateX(-2.45em);}            #north_hand{position:absolute;top:50%;left:10.0%;transform:translateY(-50%)translateX(-50%)rotate(90deg)translateY(-50%);}            #north_meld{position:absolute;bottom:0.5%;left:0.5%;transform:translateY(50%)translateX(-50%)rotate(90deg)translateX(-50%)translateY(-50%);}</style><div id=table><div id=dora_shown>🀀🀫🀫🀫🀫</div>        \t<div id=game_stats>四麻赤<br>東2局<br>1本場1供託</div>            \t<div id=east_stats>北家 23500</div>            \t<div id=east_river><br><br></div>            \t<div id=east_hand>🀊🀊🀋🀝🀐🀑🀓🀗🀘🀘🀂🀆🀅</div>            \t<div id=east_meld></div>            \t<div id=south_stats><b>東家 25500</b></div>            \t<div id=south_river>🀛<br><br></div>            \t<div id=south_hand>🀉🀋🀎🀚🀛🀡🀐🀒🀗🀁🀃🀃🀆</div>            \t<div id=south_meld></div>            \t<div id=west_stats>南家 23500</div>            \t<div id=west_river><br><br></div>            \t<div id=west_hand>🀇🀋🀚🀝🀝🀞🀐🀑<red>🀔</red>🀖🀀🀁🀂</div>            \t<div id=west_meld></div>            \t<div id=north_stats>西家 26500</div>            \t<div id=north_river><br><br></div>            \t<div id=north_hand>🀇🀌🀍🀜🀡🀐🀑🀓🀕🀕🀖🀁🀂</div>            \t<div id=north_meld></div>"
      ],
      "text/plain": [
       "<IPython.core.display.Markdown object>"
      ]
     },
     "metadata": {},
     "output_type": "display_data"
    },
    {
     "name": "stdout",
     "output_type": "stream",
     "text": [
      "{'action': 'draw', 'who': 1, 'tile': 17}\n",
      "{'action': 'throw', 'who': 1, 'tile': 69}\n",
      "Prediction: [[ 3588.418      -22.201056   987.8791   -4399.8545  ]]\n"
     ]
    },
    {
     "data": {
      "text/markdown": [
       "<style>red{background:radial-gradient(red,black);-webkit-background-clip:text;-webkit-text-fill-color:transparent;}            rot{width:1.59em;transform:rotate(270deg)translateX(0.23em);display:inline-block;margin:0em -0.23em 0em -0.36em;}            #table{background-color:lightgray;color:black;line-height:1em;position:relative;font-size:30px;width:500px;height:500px;}            #dora_shown{font-size:25px;position:absolute;top:40%;left:50%;transform:translateX(-50%);}            #game_stats{line-height:1.2em;font-size:15px;text-align:center;position:absolute;top:48%;left:50%;transform:translateX(-50%);}            #east_stats{font-size:15px;position:absolute;top:60%;left:50%;transform:translateX(-50%);}            #east_river{position:absolute;top:65%;left:50%;transform:translateX(-2.45em);}            #east_hand{position:absolute;bottom:10%;left:0%;transform:translateX(250px)translateX(-50%);}            #east_meld{position:absolute;bottom:0.5%;right:0.5%;}            #south_stats{font-size:15px;position:absolute;bottom:50%;left:60%;transform:translateY(50%)translateX(-50%)rotate(270deg)translateY(50%);}            #south_river{position:absolute;bottom:50%;right:35%;transform:translateY(50%)translateX(50%)rotate(270deg)translateY(50%)translateX(50%)translateX(-2.45em);}            #south_hand{position:absolute;bottom:50%;right:10%;transform:translateY(50%)translateX(50%)rotate(270deg)translateY(-50%);}            #south_meld{position:absolute;top:0.5%;right:0.5%;transform:translateY(-50%)translateX(50%)rotate(270deg)translateX(-50%)translateY(-50%);}            #west_stats{font-size:15px;position:absolute;bottom:60%;left:50%;transform:translateX(-50%)rotate(180deg);}            #west_river{position:absolute;bottom:65%;right:50%;transform:rotate(180deg)translateX(-2.45em);}            #west_hand{position:absolute;top:10%;left:0%;transform:translateX(250px)translateX(-50%)rotate(180deg);}            #west_meld{position:absolute;top:0.5%;left:0.5%;transform:rotate(180deg);}            #north_stats{font-size:15px;position:absolute;top:50%;right:60%;transform:translateY(-50%)translateX(50%)rotate(90deg)translateY(50%);}            #north_river{position:absolute;top:50%;left:35%;transform:translateY(-50%)translateX(-50%)rotate(90deg)translateY(50%)translateX(50%)translateX(-2.45em);}            #north_hand{position:absolute;top:50%;left:10.0%;transform:translateY(-50%)translateX(-50%)rotate(90deg)translateY(-50%);}            #north_meld{position:absolute;bottom:0.5%;left:0.5%;transform:translateY(50%)translateX(-50%)rotate(90deg)translateX(-50%)translateY(-50%);}</style><div id=table><div id=dora_shown>🀀🀫🀫🀫🀫</div>        \t<div id=game_stats>四麻赤<br>東2局<br>1本場1供託</div>            \t<div id=east_stats>北家 23500</div>            \t<div id=east_river><br><br></div>            \t<div id=east_hand>🀊🀊🀋🀝🀐🀑🀓🀗🀘🀘🀂🀆🀅</div>            \t<div id=east_meld></div>            \t<div id=south_stats><b>東家 25500</b></div>            \t<div id=south_river>🀡<br><br></div>            \t<div id=south_hand>🀉🀋🀎🀚🀛🀛🀐🀒🀗🀁🀃🀃🀆</div>            \t<div id=south_meld></div>            \t<div id=west_stats>南家 23500</div>            \t<div id=west_river><br><br></div>            \t<div id=west_hand>🀇🀋🀚🀝🀝🀞🀐🀑<red>🀔</red>🀖🀀🀁🀂</div>            \t<div id=west_meld></div>            \t<div id=north_stats>西家 26500</div>            \t<div id=north_river><br><br></div>            \t<div id=north_hand>🀇🀌🀍🀜🀡🀐🀑🀓🀕🀕🀖🀁🀂</div>            \t<div id=north_meld></div>"
      ],
      "text/plain": [
       "<IPython.core.display.Markdown object>"
      ]
     },
     "metadata": {},
     "output_type": "display_data"
    },
    {
     "name": "stdout",
     "output_type": "stream",
     "text": [
      "{'action': 'draw', 'who': 1, 'tile': 17}\n",
      "{'action': 'throw', 'who': 1, 'tile': 75}\n",
      "Prediction: [[ 3663.9365     -34.790962   671.6673   -4161.928   ]]\n"
     ]
    },
    {
     "data": {
      "text/markdown": [
       "<style>red{background:radial-gradient(red,black);-webkit-background-clip:text;-webkit-text-fill-color:transparent;}            rot{width:1.59em;transform:rotate(270deg)translateX(0.23em);display:inline-block;margin:0em -0.23em 0em -0.36em;}            #table{background-color:lightgray;color:black;line-height:1em;position:relative;font-size:30px;width:500px;height:500px;}            #dora_shown{font-size:25px;position:absolute;top:40%;left:50%;transform:translateX(-50%);}            #game_stats{line-height:1.2em;font-size:15px;text-align:center;position:absolute;top:48%;left:50%;transform:translateX(-50%);}            #east_stats{font-size:15px;position:absolute;top:60%;left:50%;transform:translateX(-50%);}            #east_river{position:absolute;top:65%;left:50%;transform:translateX(-2.45em);}            #east_hand{position:absolute;bottom:10%;left:0%;transform:translateX(250px)translateX(-50%);}            #east_meld{position:absolute;bottom:0.5%;right:0.5%;}            #south_stats{font-size:15px;position:absolute;bottom:50%;left:60%;transform:translateY(50%)translateX(-50%)rotate(270deg)translateY(50%);}            #south_river{position:absolute;bottom:50%;right:35%;transform:translateY(50%)translateX(50%)rotate(270deg)translateY(50%)translateX(50%)translateX(-2.45em);}            #south_hand{position:absolute;bottom:50%;right:10%;transform:translateY(50%)translateX(50%)rotate(270deg)translateY(-50%);}            #south_meld{position:absolute;top:0.5%;right:0.5%;transform:translateY(-50%)translateX(50%)rotate(270deg)translateX(-50%)translateY(-50%);}            #west_stats{font-size:15px;position:absolute;bottom:60%;left:50%;transform:translateX(-50%)rotate(180deg);}            #west_river{position:absolute;bottom:65%;right:50%;transform:rotate(180deg)translateX(-2.45em);}            #west_hand{position:absolute;top:10%;left:0%;transform:translateX(250px)translateX(-50%)rotate(180deg);}            #west_meld{position:absolute;top:0.5%;left:0.5%;transform:rotate(180deg);}            #north_stats{font-size:15px;position:absolute;top:50%;right:60%;transform:translateY(-50%)translateX(50%)rotate(90deg)translateY(50%);}            #north_river{position:absolute;top:50%;left:35%;transform:translateY(-50%)translateX(-50%)rotate(90deg)translateY(50%)translateX(50%)translateX(-2.45em);}            #north_hand{position:absolute;top:50%;left:10.0%;transform:translateY(-50%)translateX(-50%)rotate(90deg)translateY(-50%);}            #north_meld{position:absolute;bottom:0.5%;left:0.5%;transform:translateY(50%)translateX(-50%)rotate(90deg)translateX(-50%)translateY(-50%);}</style><div id=table><div id=dora_shown>🀀🀫🀫🀫🀫</div>        \t<div id=game_stats>四麻赤<br>東2局<br>1本場1供託</div>            \t<div id=east_stats>北家 23500</div>            \t<div id=east_river><br><br></div>            \t<div id=east_hand>🀊🀊🀋🀝🀐🀑🀓🀗🀘🀘🀂🀆🀅</div>            \t<div id=east_meld></div>            \t<div id=south_stats><b>東家 25500</b></div>            \t<div id=south_river>🀐<br><br></div>            \t<div id=south_hand>🀉🀋🀎🀚🀛🀛🀡🀒🀗🀁🀃🀃🀆</div>            \t<div id=south_meld></div>            \t<div id=west_stats>南家 23500</div>            \t<div id=west_river><br><br></div>            \t<div id=west_hand>🀇🀋🀚🀝🀝🀞🀐🀑<red>🀔</red>🀖🀀🀁🀂</div>            \t<div id=west_meld></div>            \t<div id=north_stats>西家 26500</div>            \t<div id=north_river><br><br></div>            \t<div id=north_hand>🀇🀌🀍🀜🀡🀐🀑🀓🀕🀕🀖🀁🀂</div>            \t<div id=north_meld></div>"
      ],
      "text/plain": [
       "<IPython.core.display.Markdown object>"
      ]
     },
     "metadata": {},
     "output_type": "display_data"
    },
    {
     "name": "stdout",
     "output_type": "stream",
     "text": [
      "{'action': 'draw', 'who': 1, 'tile': 17}\n",
      "{'action': 'throw', 'who': 1, 'tile': 83}\n",
      "Prediction: [[ 3318.5725    497.4186    550.49493 -4233.54   ]]\n"
     ]
    },
    {
     "data": {
      "text/markdown": [
       "<style>red{background:radial-gradient(red,black);-webkit-background-clip:text;-webkit-text-fill-color:transparent;}            rot{width:1.59em;transform:rotate(270deg)translateX(0.23em);display:inline-block;margin:0em -0.23em 0em -0.36em;}            #table{background-color:lightgray;color:black;line-height:1em;position:relative;font-size:30px;width:500px;height:500px;}            #dora_shown{font-size:25px;position:absolute;top:40%;left:50%;transform:translateX(-50%);}            #game_stats{line-height:1.2em;font-size:15px;text-align:center;position:absolute;top:48%;left:50%;transform:translateX(-50%);}            #east_stats{font-size:15px;position:absolute;top:60%;left:50%;transform:translateX(-50%);}            #east_river{position:absolute;top:65%;left:50%;transform:translateX(-2.45em);}            #east_hand{position:absolute;bottom:10%;left:0%;transform:translateX(250px)translateX(-50%);}            #east_meld{position:absolute;bottom:0.5%;right:0.5%;}            #south_stats{font-size:15px;position:absolute;bottom:50%;left:60%;transform:translateY(50%)translateX(-50%)rotate(270deg)translateY(50%);}            #south_river{position:absolute;bottom:50%;right:35%;transform:translateY(50%)translateX(50%)rotate(270deg)translateY(50%)translateX(50%)translateX(-2.45em);}            #south_hand{position:absolute;bottom:50%;right:10%;transform:translateY(50%)translateX(50%)rotate(270deg)translateY(-50%);}            #south_meld{position:absolute;top:0.5%;right:0.5%;transform:translateY(-50%)translateX(50%)rotate(270deg)translateX(-50%)translateY(-50%);}            #west_stats{font-size:15px;position:absolute;bottom:60%;left:50%;transform:translateX(-50%)rotate(180deg);}            #west_river{position:absolute;bottom:65%;right:50%;transform:rotate(180deg)translateX(-2.45em);}            #west_hand{position:absolute;top:10%;left:0%;transform:translateX(250px)translateX(-50%)rotate(180deg);}            #west_meld{position:absolute;top:0.5%;left:0.5%;transform:rotate(180deg);}            #north_stats{font-size:15px;position:absolute;top:50%;right:60%;transform:translateY(-50%)translateX(50%)rotate(90deg)translateY(50%);}            #north_river{position:absolute;top:50%;left:35%;transform:translateY(-50%)translateX(-50%)rotate(90deg)translateY(50%)translateX(50%)translateX(-2.45em);}            #north_hand{position:absolute;top:50%;left:10.0%;transform:translateY(-50%)translateX(-50%)rotate(90deg)translateY(-50%);}            #north_meld{position:absolute;bottom:0.5%;left:0.5%;transform:translateY(50%)translateX(-50%)rotate(90deg)translateX(-50%)translateY(-50%);}</style><div id=table><div id=dora_shown>🀀🀫🀫🀫🀫</div>        \t<div id=game_stats>四麻赤<br>東2局<br>1本場1供託</div>            \t<div id=east_stats>北家 23500</div>            \t<div id=east_river><br><br></div>            \t<div id=east_hand>🀊🀊🀋🀝🀐🀑🀓🀗🀘🀘🀂🀆🀅</div>            \t<div id=east_meld></div>            \t<div id=south_stats><b>東家 25500</b></div>            \t<div id=south_river>🀒<br><br></div>            \t<div id=south_hand>🀉🀋🀎🀚🀛🀛🀡🀐🀗🀁🀃🀃🀆</div>            \t<div id=south_meld></div>            \t<div id=west_stats>南家 23500</div>            \t<div id=west_river><br><br></div>            \t<div id=west_hand>🀇🀋🀚🀝🀝🀞🀐🀑<red>🀔</red>🀖🀀🀁🀂</div>            \t<div id=west_meld></div>            \t<div id=north_stats>西家 26500</div>            \t<div id=north_river><br><br></div>            \t<div id=north_hand>🀇🀌🀍🀜🀡🀐🀑🀓🀕🀕🀖🀁🀂</div>            \t<div id=north_meld></div>"
      ],
      "text/plain": [
       "<IPython.core.display.Markdown object>"
      ]
     },
     "metadata": {},
     "output_type": "display_data"
    },
    {
     "name": "stdout",
     "output_type": "stream",
     "text": [
      "{'action': 'draw', 'who': 1, 'tile': 17}\n",
      "{'action': 'throw', 'who': 1, 'tile': 100}\n",
      "Prediction: [[ 3246.7488    826.1079    283.83292 -4228.97   ]]\n"
     ]
    },
    {
     "data": {
      "text/markdown": [
       "<style>red{background:radial-gradient(red,black);-webkit-background-clip:text;-webkit-text-fill-color:transparent;}            rot{width:1.59em;transform:rotate(270deg)translateX(0.23em);display:inline-block;margin:0em -0.23em 0em -0.36em;}            #table{background-color:lightgray;color:black;line-height:1em;position:relative;font-size:30px;width:500px;height:500px;}            #dora_shown{font-size:25px;position:absolute;top:40%;left:50%;transform:translateX(-50%);}            #game_stats{line-height:1.2em;font-size:15px;text-align:center;position:absolute;top:48%;left:50%;transform:translateX(-50%);}            #east_stats{font-size:15px;position:absolute;top:60%;left:50%;transform:translateX(-50%);}            #east_river{position:absolute;top:65%;left:50%;transform:translateX(-2.45em);}            #east_hand{position:absolute;bottom:10%;left:0%;transform:translateX(250px)translateX(-50%);}            #east_meld{position:absolute;bottom:0.5%;right:0.5%;}            #south_stats{font-size:15px;position:absolute;bottom:50%;left:60%;transform:translateY(50%)translateX(-50%)rotate(270deg)translateY(50%);}            #south_river{position:absolute;bottom:50%;right:35%;transform:translateY(50%)translateX(50%)rotate(270deg)translateY(50%)translateX(50%)translateX(-2.45em);}            #south_hand{position:absolute;bottom:50%;right:10%;transform:translateY(50%)translateX(50%)rotate(270deg)translateY(-50%);}            #south_meld{position:absolute;top:0.5%;right:0.5%;transform:translateY(-50%)translateX(50%)rotate(270deg)translateX(-50%)translateY(-50%);}            #west_stats{font-size:15px;position:absolute;bottom:60%;left:50%;transform:translateX(-50%)rotate(180deg);}            #west_river{position:absolute;bottom:65%;right:50%;transform:rotate(180deg)translateX(-2.45em);}            #west_hand{position:absolute;top:10%;left:0%;transform:translateX(250px)translateX(-50%)rotate(180deg);}            #west_meld{position:absolute;top:0.5%;left:0.5%;transform:rotate(180deg);}            #north_stats{font-size:15px;position:absolute;top:50%;right:60%;transform:translateY(-50%)translateX(50%)rotate(90deg)translateY(50%);}            #north_river{position:absolute;top:50%;left:35%;transform:translateY(-50%)translateX(-50%)rotate(90deg)translateY(50%)translateX(50%)translateX(-2.45em);}            #north_hand{position:absolute;top:50%;left:10.0%;transform:translateY(-50%)translateX(-50%)rotate(90deg)translateY(-50%);}            #north_meld{position:absolute;bottom:0.5%;left:0.5%;transform:translateY(50%)translateX(-50%)rotate(90deg)translateX(-50%)translateY(-50%);}</style><div id=table><div id=dora_shown>🀀🀫🀫🀫🀫</div>        \t<div id=game_stats>四麻赤<br>東2局<br>1本場1供託</div>            \t<div id=east_stats>北家 23500</div>            \t<div id=east_river><br><br></div>            \t<div id=east_hand>🀊🀊🀋🀝🀐🀑🀓🀗🀘🀘🀂🀆🀅</div>            \t<div id=east_meld></div>            \t<div id=south_stats><b>東家 25500</b></div>            \t<div id=south_river>🀗<br><br></div>            \t<div id=south_hand>🀉🀋🀎🀚🀛🀛🀡🀐🀒🀁🀃🀃🀆</div>            \t<div id=south_meld></div>            \t<div id=west_stats>南家 23500</div>            \t<div id=west_river><br><br></div>            \t<div id=west_hand>🀇🀋🀚🀝🀝🀞🀐🀑<red>🀔</red>🀖🀀🀁🀂</div>            \t<div id=west_meld></div>            \t<div id=north_stats>西家 26500</div>            \t<div id=north_river><br><br></div>            \t<div id=north_hand>🀇🀌🀍🀜🀡🀐🀑🀓🀕🀕🀖🀁🀂</div>            \t<div id=north_meld></div>"
      ],
      "text/plain": [
       "<IPython.core.display.Markdown object>"
      ]
     },
     "metadata": {},
     "output_type": "display_data"
    },
    {
     "name": "stdout",
     "output_type": "stream",
     "text": [
      "{'action': 'draw', 'who': 1, 'tile': 17}\n",
      "{'action': 'throw', 'who': 1, 'tile': 114}\n",
      "Prediction: [[ 4001.8018    656.9965    439.37943 -4942.2593 ]]\n"
     ]
    },
    {
     "data": {
      "text/markdown": [
       "<style>red{background:radial-gradient(red,black);-webkit-background-clip:text;-webkit-text-fill-color:transparent;}            rot{width:1.59em;transform:rotate(270deg)translateX(0.23em);display:inline-block;margin:0em -0.23em 0em -0.36em;}            #table{background-color:lightgray;color:black;line-height:1em;position:relative;font-size:30px;width:500px;height:500px;}            #dora_shown{font-size:25px;position:absolute;top:40%;left:50%;transform:translateX(-50%);}            #game_stats{line-height:1.2em;font-size:15px;text-align:center;position:absolute;top:48%;left:50%;transform:translateX(-50%);}            #east_stats{font-size:15px;position:absolute;top:60%;left:50%;transform:translateX(-50%);}            #east_river{position:absolute;top:65%;left:50%;transform:translateX(-2.45em);}            #east_hand{position:absolute;bottom:10%;left:0%;transform:translateX(250px)translateX(-50%);}            #east_meld{position:absolute;bottom:0.5%;right:0.5%;}            #south_stats{font-size:15px;position:absolute;bottom:50%;left:60%;transform:translateY(50%)translateX(-50%)rotate(270deg)translateY(50%);}            #south_river{position:absolute;bottom:50%;right:35%;transform:translateY(50%)translateX(50%)rotate(270deg)translateY(50%)translateX(50%)translateX(-2.45em);}            #south_hand{position:absolute;bottom:50%;right:10%;transform:translateY(50%)translateX(50%)rotate(270deg)translateY(-50%);}            #south_meld{position:absolute;top:0.5%;right:0.5%;transform:translateY(-50%)translateX(50%)rotate(270deg)translateX(-50%)translateY(-50%);}            #west_stats{font-size:15px;position:absolute;bottom:60%;left:50%;transform:translateX(-50%)rotate(180deg);}            #west_river{position:absolute;bottom:65%;right:50%;transform:rotate(180deg)translateX(-2.45em);}            #west_hand{position:absolute;top:10%;left:0%;transform:translateX(250px)translateX(-50%)rotate(180deg);}            #west_meld{position:absolute;top:0.5%;left:0.5%;transform:rotate(180deg);}            #north_stats{font-size:15px;position:absolute;top:50%;right:60%;transform:translateY(-50%)translateX(50%)rotate(90deg)translateY(50%);}            #north_river{position:absolute;top:50%;left:35%;transform:translateY(-50%)translateX(-50%)rotate(90deg)translateY(50%)translateX(50%)translateX(-2.45em);}            #north_hand{position:absolute;top:50%;left:10.0%;transform:translateY(-50%)translateX(-50%)rotate(90deg)translateY(-50%);}            #north_meld{position:absolute;bottom:0.5%;left:0.5%;transform:translateY(50%)translateX(-50%)rotate(90deg)translateX(-50%)translateY(-50%);}</style><div id=table><div id=dora_shown>🀀🀫🀫🀫🀫</div>        \t<div id=game_stats>四麻赤<br>東2局<br>1本場1供託</div>            \t<div id=east_stats>北家 23500</div>            \t<div id=east_river><br><br></div>            \t<div id=east_hand>🀊🀊🀋🀝🀐🀑🀓🀗🀘🀘🀂🀆🀅</div>            \t<div id=east_meld></div>            \t<div id=south_stats><b>東家 25500</b></div>            \t<div id=south_river>🀁<br><br></div>            \t<div id=south_hand>🀉🀋🀎🀚🀛🀛🀡🀐🀒🀗🀃🀃🀆</div>            \t<div id=south_meld></div>            \t<div id=west_stats>南家 23500</div>            \t<div id=west_river><br><br></div>            \t<div id=west_hand>🀇🀋🀚🀝🀝🀞🀐🀑<red>🀔</red>🀖🀀🀁🀂</div>            \t<div id=west_meld></div>            \t<div id=north_stats>西家 26500</div>            \t<div id=north_river><br><br></div>            \t<div id=north_hand>🀇🀌🀍🀜🀡🀐🀑🀓🀕🀕🀖🀁🀂</div>            \t<div id=north_meld></div>"
      ],
      "text/plain": [
       "<IPython.core.display.Markdown object>"
      ]
     },
     "metadata": {},
     "output_type": "display_data"
    },
    {
     "name": "stdout",
     "output_type": "stream",
     "text": [
      "{'action': 'draw', 'who': 1, 'tile': 17}\n",
      "{'action': 'throw', 'who': 1, 'tile': 120}\n",
      "Prediction: [[ 3412.631      69.77588  1572.7968  -4776.1953 ]]\n"
     ]
    },
    {
     "data": {
      "text/markdown": [
       "<style>red{background:radial-gradient(red,black);-webkit-background-clip:text;-webkit-text-fill-color:transparent;}            rot{width:1.59em;transform:rotate(270deg)translateX(0.23em);display:inline-block;margin:0em -0.23em 0em -0.36em;}            #table{background-color:lightgray;color:black;line-height:1em;position:relative;font-size:30px;width:500px;height:500px;}            #dora_shown{font-size:25px;position:absolute;top:40%;left:50%;transform:translateX(-50%);}            #game_stats{line-height:1.2em;font-size:15px;text-align:center;position:absolute;top:48%;left:50%;transform:translateX(-50%);}            #east_stats{font-size:15px;position:absolute;top:60%;left:50%;transform:translateX(-50%);}            #east_river{position:absolute;top:65%;left:50%;transform:translateX(-2.45em);}            #east_hand{position:absolute;bottom:10%;left:0%;transform:translateX(250px)translateX(-50%);}            #east_meld{position:absolute;bottom:0.5%;right:0.5%;}            #south_stats{font-size:15px;position:absolute;bottom:50%;left:60%;transform:translateY(50%)translateX(-50%)rotate(270deg)translateY(50%);}            #south_river{position:absolute;bottom:50%;right:35%;transform:translateY(50%)translateX(50%)rotate(270deg)translateY(50%)translateX(50%)translateX(-2.45em);}            #south_hand{position:absolute;bottom:50%;right:10%;transform:translateY(50%)translateX(50%)rotate(270deg)translateY(-50%);}            #south_meld{position:absolute;top:0.5%;right:0.5%;transform:translateY(-50%)translateX(50%)rotate(270deg)translateX(-50%)translateY(-50%);}            #west_stats{font-size:15px;position:absolute;bottom:60%;left:50%;transform:translateX(-50%)rotate(180deg);}            #west_river{position:absolute;bottom:65%;right:50%;transform:rotate(180deg)translateX(-2.45em);}            #west_hand{position:absolute;top:10%;left:0%;transform:translateX(250px)translateX(-50%)rotate(180deg);}            #west_meld{position:absolute;top:0.5%;left:0.5%;transform:rotate(180deg);}            #north_stats{font-size:15px;position:absolute;top:50%;right:60%;transform:translateY(-50%)translateX(50%)rotate(90deg)translateY(50%);}            #north_river{position:absolute;top:50%;left:35%;transform:translateY(-50%)translateX(-50%)rotate(90deg)translateY(50%)translateX(50%)translateX(-2.45em);}            #north_hand{position:absolute;top:50%;left:10.0%;transform:translateY(-50%)translateX(-50%)rotate(90deg)translateY(-50%);}            #north_meld{position:absolute;bottom:0.5%;left:0.5%;transform:translateY(50%)translateX(-50%)rotate(90deg)translateX(-50%)translateY(-50%);}</style><div id=table><div id=dora_shown>🀀🀫🀫🀫🀫</div>        \t<div id=game_stats>四麻赤<br>東2局<br>1本場1供託</div>            \t<div id=east_stats>北家 23500</div>            \t<div id=east_river><br><br></div>            \t<div id=east_hand>🀊🀊🀋🀝🀐🀑🀓🀗🀘🀘🀂🀆🀅</div>            \t<div id=east_meld></div>            \t<div id=south_stats><b>東家 25500</b></div>            \t<div id=south_river>🀃<br><br></div>            \t<div id=south_hand>🀉🀋🀎🀚🀛🀛🀡🀐🀒🀗🀁🀃🀆</div>            \t<div id=south_meld></div>            \t<div id=west_stats>南家 23500</div>            \t<div id=west_river><br><br></div>            \t<div id=west_hand>🀇🀋🀚🀝🀝🀞🀐🀑<red>🀔</red>🀖🀀🀁🀂</div>            \t<div id=west_meld></div>            \t<div id=north_stats>西家 26500</div>            \t<div id=north_river><br><br></div>            \t<div id=north_hand>🀇🀌🀍🀜🀡🀐🀑🀓🀕🀕🀖🀁🀂</div>            \t<div id=north_meld></div>"
      ],
      "text/plain": [
       "<IPython.core.display.Markdown object>"
      ]
     },
     "metadata": {},
     "output_type": "display_data"
    },
    {
     "name": "stdout",
     "output_type": "stream",
     "text": [
      "{'action': 'draw', 'who': 1, 'tile': 17}\n",
      "{'action': 'throw', 'who': 1, 'tile': 123}\n",
      "Prediction: [[ 3412.631      69.77588  1572.7968  -4776.1953 ]]\n"
     ]
    },
    {
     "data": {
      "text/markdown": [
       "<style>red{background:radial-gradient(red,black);-webkit-background-clip:text;-webkit-text-fill-color:transparent;}            rot{width:1.59em;transform:rotate(270deg)translateX(0.23em);display:inline-block;margin:0em -0.23em 0em -0.36em;}            #table{background-color:lightgray;color:black;line-height:1em;position:relative;font-size:30px;width:500px;height:500px;}            #dora_shown{font-size:25px;position:absolute;top:40%;left:50%;transform:translateX(-50%);}            #game_stats{line-height:1.2em;font-size:15px;text-align:center;position:absolute;top:48%;left:50%;transform:translateX(-50%);}            #east_stats{font-size:15px;position:absolute;top:60%;left:50%;transform:translateX(-50%);}            #east_river{position:absolute;top:65%;left:50%;transform:translateX(-2.45em);}            #east_hand{position:absolute;bottom:10%;left:0%;transform:translateX(250px)translateX(-50%);}            #east_meld{position:absolute;bottom:0.5%;right:0.5%;}            #south_stats{font-size:15px;position:absolute;bottom:50%;left:60%;transform:translateY(50%)translateX(-50%)rotate(270deg)translateY(50%);}            #south_river{position:absolute;bottom:50%;right:35%;transform:translateY(50%)translateX(50%)rotate(270deg)translateY(50%)translateX(50%)translateX(-2.45em);}            #south_hand{position:absolute;bottom:50%;right:10%;transform:translateY(50%)translateX(50%)rotate(270deg)translateY(-50%);}            #south_meld{position:absolute;top:0.5%;right:0.5%;transform:translateY(-50%)translateX(50%)rotate(270deg)translateX(-50%)translateY(-50%);}            #west_stats{font-size:15px;position:absolute;bottom:60%;left:50%;transform:translateX(-50%)rotate(180deg);}            #west_river{position:absolute;bottom:65%;right:50%;transform:rotate(180deg)translateX(-2.45em);}            #west_hand{position:absolute;top:10%;left:0%;transform:translateX(250px)translateX(-50%)rotate(180deg);}            #west_meld{position:absolute;top:0.5%;left:0.5%;transform:rotate(180deg);}            #north_stats{font-size:15px;position:absolute;top:50%;right:60%;transform:translateY(-50%)translateX(50%)rotate(90deg)translateY(50%);}            #north_river{position:absolute;top:50%;left:35%;transform:translateY(-50%)translateX(-50%)rotate(90deg)translateY(50%)translateX(50%)translateX(-2.45em);}            #north_hand{position:absolute;top:50%;left:10.0%;transform:translateY(-50%)translateX(-50%)rotate(90deg)translateY(-50%);}            #north_meld{position:absolute;bottom:0.5%;left:0.5%;transform:translateY(50%)translateX(-50%)rotate(90deg)translateX(-50%)translateY(-50%);}</style><div id=table><div id=dora_shown>🀀🀫🀫🀫🀫</div>        \t<div id=game_stats>四麻赤<br>東2局<br>1本場1供託</div>            \t<div id=east_stats>北家 23500</div>            \t<div id=east_river><br><br></div>            \t<div id=east_hand>🀊🀊🀋🀝🀐🀑🀓🀗🀘🀘🀂🀆🀅</div>            \t<div id=east_meld></div>            \t<div id=south_stats><b>東家 25500</b></div>            \t<div id=south_river>🀃<br><br></div>            \t<div id=south_hand>🀉🀋🀎🀚🀛🀛🀡🀐🀒🀗🀁🀃🀆</div>            \t<div id=south_meld></div>            \t<div id=west_stats>南家 23500</div>            \t<div id=west_river><br><br></div>            \t<div id=west_hand>🀇🀋🀚🀝🀝🀞🀐🀑<red>🀔</red>🀖🀀🀁🀂</div>            \t<div id=west_meld></div>            \t<div id=north_stats>西家 26500</div>            \t<div id=north_river><br><br></div>            \t<div id=north_hand>🀇🀌🀍🀜🀡🀐🀑🀓🀕🀕🀖🀁🀂</div>            \t<div id=north_meld></div>"
      ],
      "text/plain": [
       "<IPython.core.display.Markdown object>"
      ]
     },
     "metadata": {},
     "output_type": "display_data"
    },
    {
     "name": "stdout",
     "output_type": "stream",
     "text": [
      "{'action': 'draw', 'who': 1, 'tile': 17}\n",
      "{'action': 'throw', 'who': 1, 'tile': 127}\n",
      "Prediction: [[ 3983.7817   -338.71478   395.90536 -3890.961  ]]\n"
     ]
    },
    {
     "data": {
      "text/markdown": [
       "<style>red{background:radial-gradient(red,black);-webkit-background-clip:text;-webkit-text-fill-color:transparent;}            rot{width:1.59em;transform:rotate(270deg)translateX(0.23em);display:inline-block;margin:0em -0.23em 0em -0.36em;}            #table{background-color:lightgray;color:black;line-height:1em;position:relative;font-size:30px;width:500px;height:500px;}            #dora_shown{font-size:25px;position:absolute;top:40%;left:50%;transform:translateX(-50%);}            #game_stats{line-height:1.2em;font-size:15px;text-align:center;position:absolute;top:48%;left:50%;transform:translateX(-50%);}            #east_stats{font-size:15px;position:absolute;top:60%;left:50%;transform:translateX(-50%);}            #east_river{position:absolute;top:65%;left:50%;transform:translateX(-2.45em);}            #east_hand{position:absolute;bottom:10%;left:0%;transform:translateX(250px)translateX(-50%);}            #east_meld{position:absolute;bottom:0.5%;right:0.5%;}            #south_stats{font-size:15px;position:absolute;bottom:50%;left:60%;transform:translateY(50%)translateX(-50%)rotate(270deg)translateY(50%);}            #south_river{position:absolute;bottom:50%;right:35%;transform:translateY(50%)translateX(50%)rotate(270deg)translateY(50%)translateX(50%)translateX(-2.45em);}            #south_hand{position:absolute;bottom:50%;right:10%;transform:translateY(50%)translateX(50%)rotate(270deg)translateY(-50%);}            #south_meld{position:absolute;top:0.5%;right:0.5%;transform:translateY(-50%)translateX(50%)rotate(270deg)translateX(-50%)translateY(-50%);}            #west_stats{font-size:15px;position:absolute;bottom:60%;left:50%;transform:translateX(-50%)rotate(180deg);}            #west_river{position:absolute;bottom:65%;right:50%;transform:rotate(180deg)translateX(-2.45em);}            #west_hand{position:absolute;top:10%;left:0%;transform:translateX(250px)translateX(-50%)rotate(180deg);}            #west_meld{position:absolute;top:0.5%;left:0.5%;transform:rotate(180deg);}            #north_stats{font-size:15px;position:absolute;top:50%;right:60%;transform:translateY(-50%)translateX(50%)rotate(90deg)translateY(50%);}            #north_river{position:absolute;top:50%;left:35%;transform:translateY(-50%)translateX(-50%)rotate(90deg)translateY(50%)translateX(50%)translateX(-2.45em);}            #north_hand{position:absolute;top:50%;left:10.0%;transform:translateY(-50%)translateX(-50%)rotate(90deg)translateY(-50%);}            #north_meld{position:absolute;bottom:0.5%;left:0.5%;transform:translateY(50%)translateX(-50%)rotate(90deg)translateX(-50%)translateY(-50%);}</style><div id=table><div id=dora_shown>🀀🀫🀫🀫🀫</div>        \t<div id=game_stats>四麻赤<br>東2局<br>1本場1供託</div>            \t<div id=east_stats>北家 23500</div>            \t<div id=east_river><br><br></div>            \t<div id=east_hand>🀊🀊🀋🀝🀐🀑🀓🀗🀘🀘🀂🀆🀅</div>            \t<div id=east_meld></div>            \t<div id=south_stats><b>東家 25500</b></div>            \t<div id=south_river>🀆<br><br></div>            \t<div id=south_hand>🀉🀋🀎🀚🀛🀛🀡🀐🀒🀗🀁🀃🀃</div>            \t<div id=south_meld></div>            \t<div id=west_stats>南家 23500</div>            \t<div id=west_river><br><br></div>            \t<div id=west_hand>🀇🀋🀚🀝🀝🀞🀐🀑<red>🀔</red>🀖🀀🀁🀂</div>            \t<div id=west_meld></div>            \t<div id=north_stats>西家 26500</div>            \t<div id=north_river><br><br></div>            \t<div id=north_hand>🀇🀌🀍🀜🀡🀐🀑🀓🀕🀕🀖🀁🀂</div>            \t<div id=north_meld></div>"
      ],
      "text/plain": [
       "<IPython.core.display.Markdown object>"
      ]
     },
     "metadata": {},
     "output_type": "display_data"
    },
    {
     "name": "stdout",
     "output_type": "stream",
     "text": [
      "{'action': 'draw', 'who': 1, 'tile': 17}\n",
      "{'action': 'throw', 'who': 1, 'tile': 17}\n",
      "Prediction: [[ 3795.9001   -197.22229   567.81335 -4030.5015 ]]\n"
     ]
    },
    {
     "data": {
      "text/markdown": [
       "<style>red{background:radial-gradient(red,black);-webkit-background-clip:text;-webkit-text-fill-color:transparent;}            rot{width:1.59em;transform:rotate(270deg)translateX(0.23em);display:inline-block;margin:0em -0.23em 0em -0.36em;}            #table{background-color:lightgray;color:black;line-height:1em;position:relative;font-size:30px;width:500px;height:500px;}            #dora_shown{font-size:25px;position:absolute;top:40%;left:50%;transform:translateX(-50%);}            #game_stats{line-height:1.2em;font-size:15px;text-align:center;position:absolute;top:48%;left:50%;transform:translateX(-50%);}            #east_stats{font-size:15px;position:absolute;top:60%;left:50%;transform:translateX(-50%);}            #east_river{position:absolute;top:65%;left:50%;transform:translateX(-2.45em);}            #east_hand{position:absolute;bottom:10%;left:0%;transform:translateX(250px)translateX(-50%);}            #east_meld{position:absolute;bottom:0.5%;right:0.5%;}            #south_stats{font-size:15px;position:absolute;bottom:50%;left:60%;transform:translateY(50%)translateX(-50%)rotate(270deg)translateY(50%);}            #south_river{position:absolute;bottom:50%;right:35%;transform:translateY(50%)translateX(50%)rotate(270deg)translateY(50%)translateX(50%)translateX(-2.45em);}            #south_hand{position:absolute;bottom:50%;right:10%;transform:translateY(50%)translateX(50%)rotate(270deg)translateY(-50%);}            #south_meld{position:absolute;top:0.5%;right:0.5%;transform:translateY(-50%)translateX(50%)rotate(270deg)translateX(-50%)translateY(-50%);}            #west_stats{font-size:15px;position:absolute;bottom:60%;left:50%;transform:translateX(-50%)rotate(180deg);}            #west_river{position:absolute;bottom:65%;right:50%;transform:rotate(180deg)translateX(-2.45em);}            #west_hand{position:absolute;top:10%;left:0%;transform:translateX(250px)translateX(-50%)rotate(180deg);}            #west_meld{position:absolute;top:0.5%;left:0.5%;transform:rotate(180deg);}            #north_stats{font-size:15px;position:absolute;top:50%;right:60%;transform:translateY(-50%)translateX(50%)rotate(90deg)translateY(50%);}            #north_river{position:absolute;top:50%;left:35%;transform:translateY(-50%)translateX(-50%)rotate(90deg)translateY(50%)translateX(50%)translateX(-2.45em);}            #north_hand{position:absolute;top:50%;left:10.0%;transform:translateY(-50%)translateX(-50%)rotate(90deg)translateY(-50%);}            #north_meld{position:absolute;bottom:0.5%;left:0.5%;transform:translateY(50%)translateX(-50%)rotate(90deg)translateX(-50%)translateY(-50%);}</style><div id=table><div id=dora_shown>🀀🀫🀫🀫🀫</div>        \t<div id=game_stats>四麻赤<br>東2局<br>1本場1供託</div>            \t<div id=east_stats>北家 23500</div>            \t<div id=east_river><br><br></div>            \t<div id=east_hand>🀊🀊🀋🀝🀐🀑🀓🀗🀘🀘🀂🀆🀅</div>            \t<div id=east_meld></div>            \t<div id=south_stats><b>東家 25500</b></div>            \t<div id=south_river>🀋<br><br></div>            \t<div id=south_hand>🀉🀎🀚🀛🀛🀡🀐🀒🀗🀁🀃🀃🀆</div>            \t<div id=south_meld></div>            \t<div id=west_stats>南家 23500</div>            \t<div id=west_river><br><br></div>            \t<div id=west_hand>🀇🀋🀚🀝🀝🀞🀐🀑<red>🀔</red>🀖🀀🀁🀂</div>            \t<div id=west_meld></div>            \t<div id=north_stats>西家 26500</div>            \t<div id=north_river><br><br></div>            \t<div id=north_hand>🀇🀌🀍🀜🀡🀐🀑🀓🀕🀕🀖🀁🀂</div>            \t<div id=north_meld></div>"
      ],
      "text/plain": [
       "<IPython.core.display.Markdown object>"
      ]
     },
     "metadata": {},
     "output_type": "display_data"
    }
   ],
   "source": [
    "game = MahjongGame4P(game_text)\n",
    "game.select_round(1)\n",
    "game.step(verbose=False)\n",
    "\n",
    "throwable_tiles = (game.hai[game.turn] + [game.tile_held[game.turn]])\n",
    "potential_scores = []\n",
    "\n",
    "for tile in throwable_tiles:\n",
    "    game = MahjongGame4P(game_text)\n",
    "    game.select_round(1)\n",
    "    game.step()\n",
    "    \n",
    "    move = {\"action\": \"throw\", \"who\": game.turn, \"tile\": tile}\n",
    "    game.step(move)\n",
    "    \n",
    "    imgstate = mjg2imgstate(game)\n",
    "    for key in imgstate.keys():\n",
    "        imgstate[key] = np.expand_dims(imgstate[key], 0).astype(np.float32)\n",
    "    \n",
    "    data = MahjongDataset([], load=False)\n",
    "    data.y = imgstate.pop(\"y\")\n",
    "    data.x_dict = imgstate\n",
    "    data.post_load()\n",
    "    \n",
    "    x = torch.from_numpy(data[:][0]).to(\"cuda\")\n",
    "    pred = model(x).cpu().detach().numpy() * 25000\n",
    "    y = data[:][1] * 25000\n",
    "    print(f\"Prediction: {pred}\")\n",
    "    potential_scores.append(pred[0, 0])\n",
    "    # print(f\"Actual val: {y}\")\n",
    "    \n",
    "    game.render()"
   ]
  },
  {
   "cell_type": "code",
   "execution_count": 12,
   "id": "6079b0bb-91ec-4637-8e62-263ad56e2d7a",
   "metadata": {},
   "outputs": [
    {
     "data": {
      "text/plain": [
       "9"
      ]
     },
     "execution_count": 12,
     "metadata": {},
     "output_type": "execute_result"
    }
   ],
   "source": [
    "max_score = max(potential_scores)\n",
    "potential_scores.index(max_score)"
   ]
  },
  {
   "cell_type": "code",
   "execution_count": 13,
   "id": "ec849195-7b38-45c3-a4b7-a74e04da48b4",
   "metadata": {},
   "outputs": [
    {
     "data": {
      "text/plain": [
       "[8, 29, 42, 45, 46, 69, 75, 83, 100, 114, 120, 123, 127, 17]"
      ]
     },
     "execution_count": 13,
     "metadata": {},
     "output_type": "execute_result"
    }
   ],
   "source": [
    "throwable_tiles"
   ]
  },
  {
   "cell_type": "code",
   "execution_count": null,
   "id": "404f8eda-33f7-47d0-be29-90a964c77d1b",
   "metadata": {},
   "outputs": [],
   "source": []
  }
 ],
 "metadata": {
  "kernelspec": {
   "display_name": "Python 3 (ipykernel)",
   "language": "python",
   "name": "python3"
  },
  "language_info": {
   "codemirror_mode": {
    "name": "ipython",
    "version": 3
   },
   "file_extension": ".py",
   "mimetype": "text/x-python",
   "name": "python",
   "nbconvert_exporter": "python",
   "pygments_lexer": "ipython3",
   "version": "3.10.12"
  }
 },
 "nbformat": 4,
 "nbformat_minor": 5
}
