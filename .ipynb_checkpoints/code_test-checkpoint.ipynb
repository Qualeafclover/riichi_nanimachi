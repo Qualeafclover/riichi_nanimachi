{
 "cells": [
  {
   "cell_type": "code",
   "execution_count": 1,
   "id": "535b131b-6b35-445d-b0d6-02fd8d75e8d7",
   "metadata": {},
   "outputs": [],
   "source": [
    "import numpy as np\n",
    "\n",
    "DATASET_PATH = \"dataset/riichi_ds_v02/0003000.npz\"\n",
    "\n",
    "loads = np.load(DATASET_PATH)\n",
    "# x, y = torch.tensor(loads[\"x\"].astype(np.float32)), torch.tensor(loads[\"y\"].astype(np.float32))"
   ]
  },
  {
   "cell_type": "code",
   "execution_count": 8,
   "id": "381bdaa9-4d17-4cc0-a6f3-e18523ee2b35",
   "metadata": {},
   "outputs": [
    {
     "name": "stdout",
     "output_type": "stream",
     "text": [
      "KeysView(NpzFile 'dataset/riichi_ds_v02/0003000.npz' with keys: x_hand, x_hand_red, x_river, x_river_red, x_river_riichi...)\n"
     ]
    }
   ],
   "source": [
    "print(loads.keys())"
   ]
  },
  {
   "cell_type": "code",
   "execution_count": 12,
   "id": "6d631e85-8c35-4c86-845c-0fe932501ae4",
   "metadata": {
    "scrolled": true
   },
   "outputs": [
    {
     "name": "stdout",
     "output_type": "stream",
     "text": [
      "x_hand\n",
      "(799885, 4, 4, 9)\n",
      "x_hand_red\n",
      "(799885, 3)\n",
      "x_river\n",
      "(799885, 4, 4, 24, 9)\n",
      "x_river_red\n",
      "(799885, 4, 24)\n",
      "x_river_riichi\n",
      "(799885, 4, 24)\n",
      "x_meld\n",
      "(799885, 4, 4, 4, 9)\n",
      "x_meld_red5\n",
      "(799885, 4, 3)\n",
      "x_meld_throw\n",
      "(799885, 4, 4, 4, 9)\n",
      "x_meld_throw_red\n",
      "(799885, 4, 3)\n",
      "x_dora\n",
      "(799885, 4, 4, 9)\n",
      "x_score\n",
      "(799885, 4)\n",
      "x_pool\n",
      "(799885,)\n",
      "x_winds\n",
      "(799885, 2, 9)\n",
      "y\n",
      "(799885, 4)\n"
     ]
    }
   ],
   "source": [
    "varnames = (\"x_hand\", \"x_hand_red\", \"x_river\", \n",
    "\"x_river_red\", \"x_river_riichi\", \"x_meld\", \n",
    "\"x_meld_red5\", \"x_meld_throw\", \"x_meld_throw_red\", \n",
    "\"x_dora\", \"x_score\", \"x_pool\", \"x_winds\", \"y\")\n",
    "\n",
    "for varname in varnames:\n",
    "    print(varname)\n",
    "    print(loads[varname].shape)"
   ]
  },
  {
   "cell_type": "code",
   "execution_count": null,
   "id": "75198d25-a5ba-4c46-b9cb-3e1852a845a0",
   "metadata": {},
   "outputs": [],
   "source": [
    "from torch.utils.data import Dataset, DataLoader\n",
    "\n"
   ]
  }
 ],
 "metadata": {
  "kernelspec": {
   "display_name": "Python 3 (ipykernel)",
   "language": "python",
   "name": "python3"
  },
  "language_info": {
   "codemirror_mode": {
    "name": "ipython",
    "version": 3
   },
   "file_extension": ".py",
   "mimetype": "text/x-python",
   "name": "python",
   "nbconvert_exporter": "python",
   "pygments_lexer": "ipython3",
   "version": "3.10.12"
  }
 },
 "nbformat": 4,
 "nbformat_minor": 5
}
