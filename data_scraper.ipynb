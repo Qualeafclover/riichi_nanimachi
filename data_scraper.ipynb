{
 "cells": [
  {
   "cell_type": "markdown",
   "id": "4b8847ba-620a-4842-b5e3-9e12c19b9b4d",
   "metadata": {
    "editable": true,
    "slideshow": {
     "slide_type": ""
    },
    "tags": []
   },
   "source": [
    "### Setup"
   ]
  },
  {
   "cell_type": "code",
   "execution_count": 1,
   "id": "8bc1ea8a-89ef-45b4-ace4-25aeb62ed6cd",
   "metadata": {},
   "outputs": [],
   "source": [
    "from concurrent.futures import ThreadPoolExecutor\n",
    "import requests\n",
    "import gzip\n",
    "import tqdm\n",
    "import os"
   ]
  },
  {
   "cell_type": "code",
   "execution_count": 2,
   "id": "69068594-3aea-4645-b181-bf86f4f7d73b",
   "metadata": {},
   "outputs": [],
   "source": [
    "THREAD_TOTAL = 1  # Multithreading is technically not allowed based on Tenhou's use terms.\n",
    "DATASET_RAW_HTML_PATH = \"dataset/raw\"\n",
    "ID_LIST_PATH = \"dataset/raw/id_list.txt\"\n",
    "GAME_MODES = [\"四鳳東喰赤－\", \"四鳳東喰赤速\"]\n",
    "LOG_HTML_FORMAT = \"https://tenhou.net/0/log/?{log}\"\n",
    "HEADERS = {\"User-Agent\": \"Mozilla/5.0 (Windows NT 6.1; Win64; x64; rv:47.0) Gecko/20100101 Firefox/47.0\"}"
   ]
  },
  {
   "cell_type": "markdown",
   "id": "97bf7070-a0d0-4fd0-8621-3114e09fd3f3",
   "metadata": {},
   "source": [
    "sca=個室<br>\n",
    "scb=段位戦<br>\n",
    "scc=鳳凰卓(牌譜あり)<br>\n",
    "scd=雀荘戦<br>\n",
    "sce=技能戦+琥珀卓(牌譜あり)<br>\n",
    "<br>\n",
    "FileIndex (URL=\"https://tenhou.net/sc/raw/dat/\"+list[i].file)<br>\n",
    "https://tenhou.net/sc/raw/list.cgi (Last 7days)<br>\n",
    "https://tenhou.net/sc/raw/list.cgi?old (old archives)<br>"
   ]
  },
  {
   "cell_type": "markdown",
   "id": "93e36e7a-97cc-47db-91d5-da187063310d",
   "metadata": {},
   "source": [
    "### Extracting game IDs"
   ]
  },
  {
   "cell_type": "code",
   "execution_count": null,
   "id": "e4a57ef4-6adc-4f17-a210-18046295eaf8",
   "metadata": {},
   "outputs": [],
   "source": [
    "url_old = \"https://tenhou.net/sc/raw/list.cgi?old\"\n",
    "url_new = \"https://tenhou.net/sc/raw/list.cgi\"\n",
    "response_old = requests.get(url_old, headers=HEADERS)\n",
    "response_new = requests.get(url_new, headers=HEADERS)\n",
    "\n",
    "time_log_old = list(\n",
    "    map((lambda s: f\"https://tenhou.net/sc/raw/dat/{s}\"),\n",
    "        filter((lambda s: s[5:8] == \"scc\"), \n",
    "               map((lambda s: s[7:].split(\"'\")[0]), \n",
    "                   response_old.text.split(\"\\r\\n\")[1:-2]\n",
    "))))\n",
    "time_log_new = list(\n",
    "    map((lambda s: f\"https://tenhou.net/sc/raw/dat/{s}\"),\n",
    "        filter((lambda s: s[0:3] == \"scc\"), \n",
    "               map((lambda s: s[7:].split(\"'\")[0]), \n",
    "                   response_new.text.split(\"\\r\\n\")[1:-2]\n",
    "))))\n",
    "\n",
    "time_log = time_log_old + time_log_new\n",
    "p_bar = tqdm.tqdm(range(len(time_log)), desc=\"Downloading game ids\")\n",
    "os.makedirs(os.path.dirname(ID_LIST_PATH), exist_ok=True)\n",
    "with open(ID_LIST_PATH, \"w\") as f:\n",
    "    for time_log_hour in time_log:\n",
    "        response = requests.get(time_log_hour, headers=HEADERS)\n",
    "        for log_line in gzip.decompress(response.content).decode(\"utf-8\").split(\"\\n\")[:-1]:\n",
    "            _, _, game_mode, game_log, _ = log_line.split(\" | \")\n",
    "            game_log = game_log.split('\"')[1].split(\"=\")[1]\n",
    "            f.write(f\"{game_mode} {game_log}\\n\")\n",
    "        p_bar.update(1)\n",
    "del p_bar"
   ]
  },
  {
   "cell_type": "markdown",
   "id": "0e5d767b-fd8d-485f-9783-ca11bf6f76de",
   "metadata": {},
   "source": [
    "### Downloading game data"
   ]
  },
  {
   "cell_type": "code",
   "execution_count": 5,
   "id": "4a841f36-69a3-4afa-a401-39cbf1003c77",
   "metadata": {
    "scrolled": true
   },
   "outputs": [
    {
     "name": "stderr",
     "output_type": "stream",
     "text": [
      "Downloading replays: 100%|██████████████████████████████████████████████████████| 35544/35544 [18:01<00:00, 43.03it/s]"
     ]
    }
   ],
   "source": [
    "os.makedirs(DATASET_RAW_HTML_PATH, exist_ok=True)\n",
    "with open(ID_LIST_PATH, \"r\") as f:\n",
    "    game_list = list(filter((lambda g: g[0] in GAME_MODES), map((lambda line: line[:-1].split(\" \")), f.readlines())))\n",
    "\n",
    "p_bar = tqdm.tqdm(range(len(game_list)), desc=\"Downloading replays\")\n",
    "\n",
    "def dl_thread(thread_num):\n",
    "    global game_list\n",
    "    while game_list:\n",
    "        global p_bar\n",
    "        game_mode, game_id = game_list.pop()\n",
    "        response = requests.get(LOG_HTML_FORMAT.format(log=game_id), headers=HEADERS)\n",
    "        with open(f\"{DATASET_RAW_HTML_PATH}/{game_id}.html\", \"w\") as f:\n",
    "            f.write(response.text)\n",
    "        p_bar.update(1)\n",
    "\n",
    "pool = ThreadPoolExecutor()\n",
    "for thread_num in range(1, THREAD_TOTAL + 1):\n",
    "    pool.submit(dl_thread, thread_num)\n",
    "pool.shutdown(wait=True)"
   ]
  },
  {
   "cell_type": "markdown",
   "id": "f88279ff-16fe-4e6e-9c48-d3938a38b3ac",
   "metadata": {},
   "source": [
    "### TEST"
   ]
  },
  {
   "cell_type": "code",
   "execution_count": null,
   "id": "2f14cf1f-4c56-4b3d-b280-84a27095050d",
   "metadata": {},
   "outputs": [],
   "source": []
  },
  {
   "cell_type": "code",
   "execution_count": null,
   "id": "f451a335-8430-4831-bea5-38089039d591",
   "metadata": {},
   "outputs": [],
   "source": [
    "from mahjong.tile import TilesConverter"
   ]
  },
  {
   "cell_type": "code",
   "execution_count": null,
   "id": "a415ec78-31a5-41d8-a7e6-ce932fa7d172",
   "metadata": {
    "scrolled": true
   },
   "outputs": [],
   "source": [
    "print(TilesConverter.string_to_34_array(man=\"789\", pin=\"456\", sou=\"123\", honors=\"123\"))"
   ]
  },
  {
   "cell_type": "code",
   "execution_count": null,
   "id": "368f4ea8-5ecc-4132-9841-2fd9ec153885",
   "metadata": {},
   "outputs": [],
   "source": [
    "from mahjong.shanten import Shanten\n",
    " \n",
    "shanten = Shanten()\n",
    "tiles = TilesConverter.string_to_34_array(man='123567', pin='123456', sou='44')\n",
    "result = shanten.calculate_shanten(tiles)\n",
    "\n",
    "print(result)"
   ]
  },
  {
   "cell_type": "code",
   "execution_count": null,
   "id": "12ba302c-1938-4344-9f66-5f65279f6be8",
   "metadata": {},
   "outputs": [],
   "source": []
  }
 ],
 "metadata": {
  "kernelspec": {
   "display_name": "Python 3 (ipykernel)",
   "language": "python",
   "name": "python3"
  },
  "language_info": {
   "codemirror_mode": {
    "name": "ipython",
    "version": 3
   },
   "file_extension": ".py",
   "mimetype": "text/x-python",
   "name": "python",
   "nbconvert_exporter": "python",
   "pygments_lexer": "ipython3",
   "version": "3.10.12"
  }
 },
 "nbformat": 4,
 "nbformat_minor": 5
}
